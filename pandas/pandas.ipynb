{
 "cells": [
  {
   "cell_type": "code",
   "execution_count": 29,
   "metadata": {},
   "outputs": [],
   "source": [
    "import pandas as pd \n",
    "import json \n",
    "import yaml"
   ]
  },
  {
   "cell_type": "code",
   "execution_count": 2,
   "metadata": {},
   "outputs": [],
   "source": [
    "with open('yaml_example.yaml') as file:\n",
    "    data = file.read()\n",
    "    "
   ]
  },
  {
   "cell_type": "code",
   "execution_count": 3,
   "metadata": {},
   "outputs": [
    {
     "data": {
      "text/plain": [
       "'Person:\\n    - name: Alex\\n      surname: Brown\\n      role: \"Student\"\\n      age: 20\\n    - name: Chris\\n      surname: Davis\\n      role: Instructor\\n      age: 31\\n    - name: Emma\\n      surname: Green\\n      role: Student\\n      age: 22\\n    - name: John\\n      surname: King\\n      role: Admin\\n      age: 27\\n    - name: Lucy\\n      surname: Miller\\n      role: Admin\\n      age: 24\\n    - name: Nick\\n      surname: Oliver\\n      role: Professor\\n      age: 45\\n    - name: Paul\\n      surname: Quinn\\n      role: Assistant\\n      age: 19'"
      ]
     },
     "execution_count": 3,
     "metadata": {},
     "output_type": "execute_result"
    }
   ],
   "source": [
    "data"
   ]
  },
  {
   "cell_type": "code",
   "execution_count": 5,
   "metadata": {},
   "outputs": [],
   "source": [
    "data_v2 = data.split(':\\n    ')\n"
   ]
  },
  {
   "cell_type": "code",
   "execution_count": 6,
   "metadata": {},
   "outputs": [
    {
     "data": {
      "text/plain": [
       "['Person',\n",
       " '- name: Alex\\n      surname: Brown\\n      role: \"Student\"\\n      age: 20\\n    - name: Chris\\n      surname: Davis\\n      role: Instructor\\n      age: 31\\n    - name: Emma\\n      surname: Green\\n      role: Student\\n      age: 22\\n    - name: John\\n      surname: King\\n      role: Admin\\n      age: 27\\n    - name: Lucy\\n      surname: Miller\\n      role: Admin\\n      age: 24\\n    - name: Nick\\n      surname: Oliver\\n      role: Professor\\n      age: 45\\n    - name: Paul\\n      surname: Quinn\\n      role: Assistant\\n      age: 19']"
      ]
     },
     "execution_count": 6,
     "metadata": {},
     "output_type": "execute_result"
    }
   ],
   "source": [
    "data_v2"
   ]
  },
  {
   "cell_type": "code",
   "execution_count": 7,
   "metadata": {},
   "outputs": [],
   "source": [
    "data_v2[1] = data_v2[1].split('-')"
   ]
  },
  {
   "cell_type": "code",
   "execution_count": 8,
   "metadata": {},
   "outputs": [
    {
     "data": {
      "text/plain": [
       "['Person',\n",
       " ['',\n",
       "  ' name: Alex\\n      surname: Brown\\n      role: \"Student\"\\n      age: 20\\n    ',\n",
       "  ' name: Chris\\n      surname: Davis\\n      role: Instructor\\n      age: 31\\n    ',\n",
       "  ' name: Emma\\n      surname: Green\\n      role: Student\\n      age: 22\\n    ',\n",
       "  ' name: John\\n      surname: King\\n      role: Admin\\n      age: 27\\n    ',\n",
       "  ' name: Lucy\\n      surname: Miller\\n      role: Admin\\n      age: 24\\n    ',\n",
       "  ' name: Nick\\n      surname: Oliver\\n      role: Professor\\n      age: 45\\n    ',\n",
       "  ' name: Paul\\n      surname: Quinn\\n      role: Assistant\\n      age: 19']]"
      ]
     },
     "execution_count": 8,
     "metadata": {},
     "output_type": "execute_result"
    }
   ],
   "source": [
    "data_v2"
   ]
  },
  {
   "cell_type": "code",
   "execution_count": 9,
   "metadata": {},
   "outputs": [],
   "source": [
    "people = []\n",
    "for person in data_v2[1]:\n",
    "    people.append(person.strip().split('\\n      '))\n"
   ]
  },
  {
   "cell_type": "code",
   "execution_count": 10,
   "metadata": {},
   "outputs": [
    {
     "data": {
      "text/plain": [
       "[[''],\n",
       " ['name: Alex', 'surname: Brown', 'role: \"Student\"', 'age: 20'],\n",
       " ['name: Chris', 'surname: Davis', 'role: Instructor', 'age: 31'],\n",
       " ['name: Emma', 'surname: Green', 'role: Student', 'age: 22'],\n",
       " ['name: John', 'surname: King', 'role: Admin', 'age: 27'],\n",
       " ['name: Lucy', 'surname: Miller', 'role: Admin', 'age: 24'],\n",
       " ['name: Nick', 'surname: Oliver', 'role: Professor', 'age: 45'],\n",
       " ['name: Paul', 'surname: Quinn', 'role: Assistant', 'age: 19']]"
      ]
     },
     "execution_count": 10,
     "metadata": {},
     "output_type": "execute_result"
    }
   ],
   "source": [
    "people"
   ]
  },
  {
   "cell_type": "code",
   "execution_count": 16,
   "metadata": {},
   "outputs": [],
   "source": [
    "people_list = [] \n",
    "for person in people:\n",
    "    if person != ['']:\n",
    "        people_dict = {}\n",
    "        for item in person:\n",
    "            temp_variable = item.split(': ')\n",
    "            try:               \n",
    "                people_dict[temp_variable[0].strip()] = int(temp_variable[1].replace('\"', '').strip())\n",
    "            except:               \n",
    "                people_dict[temp_variable[0].strip()] = temp_variable[1].replace('\"', '').strip()\n",
    "        people_list.append(people_dict)\n",
    "\n",
    "\n",
    "\n",
    "\n"
   ]
  },
  {
   "cell_type": "code",
   "execution_count": 17,
   "metadata": {},
   "outputs": [
    {
     "data": {
      "text/plain": [
       "[{'name': 'Alex', 'surname': 'Brown', 'role': 'Student', 'age': 20},\n",
       " {'name': 'Chris', 'surname': 'Davis', 'role': 'Instructor', 'age': 31},\n",
       " {'name': 'Emma', 'surname': 'Green', 'role': 'Student', 'age': 22},\n",
       " {'name': 'John', 'surname': 'King', 'role': 'Admin', 'age': 27},\n",
       " {'name': 'Lucy', 'surname': 'Miller', 'role': 'Admin', 'age': 24},\n",
       " {'name': 'Nick', 'surname': 'Oliver', 'role': 'Professor', 'age': 45},\n",
       " {'name': 'Paul', 'surname': 'Quinn', 'role': 'Assistant', 'age': 19}]"
      ]
     },
     "execution_count": 17,
     "metadata": {},
     "output_type": "execute_result"
    }
   ],
   "source": [
    "people_list"
   ]
  },
  {
   "cell_type": "code",
   "execution_count": 18,
   "metadata": {},
   "outputs": [],
   "source": [
    "person = pd.DataFrame(people_list)"
   ]
  },
  {
   "cell_type": "code",
   "execution_count": 19,
   "metadata": {},
   "outputs": [
    {
     "data": {
      "text/html": [
       "<div>\n",
       "<style scoped>\n",
       "    .dataframe tbody tr th:only-of-type {\n",
       "        vertical-align: middle;\n",
       "    }\n",
       "\n",
       "    .dataframe tbody tr th {\n",
       "        vertical-align: top;\n",
       "    }\n",
       "\n",
       "    .dataframe thead th {\n",
       "        text-align: right;\n",
       "    }\n",
       "</style>\n",
       "<table border=\"1\" class=\"dataframe\">\n",
       "  <thead>\n",
       "    <tr style=\"text-align: right;\">\n",
       "      <th></th>\n",
       "      <th>name</th>\n",
       "      <th>surname</th>\n",
       "      <th>role</th>\n",
       "      <th>age</th>\n",
       "    </tr>\n",
       "  </thead>\n",
       "  <tbody>\n",
       "    <tr>\n",
       "      <th>0</th>\n",
       "      <td>Alex</td>\n",
       "      <td>Brown</td>\n",
       "      <td>Student</td>\n",
       "      <td>20</td>\n",
       "    </tr>\n",
       "    <tr>\n",
       "      <th>1</th>\n",
       "      <td>Chris</td>\n",
       "      <td>Davis</td>\n",
       "      <td>Instructor</td>\n",
       "      <td>31</td>\n",
       "    </tr>\n",
       "    <tr>\n",
       "      <th>2</th>\n",
       "      <td>Emma</td>\n",
       "      <td>Green</td>\n",
       "      <td>Student</td>\n",
       "      <td>22</td>\n",
       "    </tr>\n",
       "    <tr>\n",
       "      <th>3</th>\n",
       "      <td>John</td>\n",
       "      <td>King</td>\n",
       "      <td>Admin</td>\n",
       "      <td>27</td>\n",
       "    </tr>\n",
       "    <tr>\n",
       "      <th>4</th>\n",
       "      <td>Lucy</td>\n",
       "      <td>Miller</td>\n",
       "      <td>Admin</td>\n",
       "      <td>24</td>\n",
       "    </tr>\n",
       "    <tr>\n",
       "      <th>5</th>\n",
       "      <td>Nick</td>\n",
       "      <td>Oliver</td>\n",
       "      <td>Professor</td>\n",
       "      <td>45</td>\n",
       "    </tr>\n",
       "    <tr>\n",
       "      <th>6</th>\n",
       "      <td>Paul</td>\n",
       "      <td>Quinn</td>\n",
       "      <td>Assistant</td>\n",
       "      <td>19</td>\n",
       "    </tr>\n",
       "  </tbody>\n",
       "</table>\n",
       "</div>"
      ],
      "text/plain": [
       "    name surname        role  age\n",
       "0   Alex   Brown     Student   20\n",
       "1  Chris   Davis  Instructor   31\n",
       "2   Emma   Green     Student   22\n",
       "3   John    King       Admin   27\n",
       "4   Lucy  Miller       Admin   24\n",
       "5   Nick  Oliver   Professor   45\n",
       "6   Paul   Quinn   Assistant   19"
      ]
     },
     "execution_count": 19,
     "metadata": {},
     "output_type": "execute_result"
    }
   ],
   "source": [
    "person"
   ]
  },
  {
   "cell_type": "code",
   "execution_count": 30,
   "metadata": {},
   "outputs": [],
   "source": [
    "with open('yaml_example.yaml') as file:\n",
    "    yaml_data = yaml.safe_load(file)\n",
    "    \n"
   ]
  },
  {
   "cell_type": "code",
   "execution_count": 31,
   "metadata": {},
   "outputs": [
    {
     "data": {
      "text/plain": [
       "{'Person': [{'name': 'Alex', 'surname': 'Brown', 'role': 'Student', 'age': 20},\n",
       "  {'name': 'Chris', 'surname': 'Davis', 'role': 'Instructor', 'age': 31},\n",
       "  {'name': 'Emma', 'surname': 'Green', 'role': 'Student', 'age': 22},\n",
       "  {'name': 'John', 'surname': 'King', 'role': 'Admin', 'age': 27},\n",
       "  {'name': 'Lucy', 'surname': 'Miller', 'role': 'Admin', 'age': 24},\n",
       "  {'name': 'Nick', 'surname': 'Oliver', 'role': 'Professor', 'age': 45},\n",
       "  {'name': 'Paul', 'surname': 'Quinn', 'role': 'Assistant', 'age': 19}]}"
      ]
     },
     "execution_count": 31,
     "metadata": {},
     "output_type": "execute_result"
    }
   ],
   "source": [
    "yaml_data"
   ]
  },
  {
   "cell_type": "code",
   "execution_count": 32,
   "metadata": {},
   "outputs": [],
   "source": [
    "json_data = json.loads(json.dumps(yaml_data))\n"
   ]
  },
  {
   "cell_type": "code",
   "execution_count": 33,
   "metadata": {},
   "outputs": [
    {
     "data": {
      "text/plain": [
       "{'Person': [{'name': 'Alex', 'surname': 'Brown', 'role': 'Student', 'age': 20},\n",
       "  {'name': 'Chris', 'surname': 'Davis', 'role': 'Instructor', 'age': 31},\n",
       "  {'name': 'Emma', 'surname': 'Green', 'role': 'Student', 'age': 22},\n",
       "  {'name': 'John', 'surname': 'King', 'role': 'Admin', 'age': 27},\n",
       "  {'name': 'Lucy', 'surname': 'Miller', 'role': 'Admin', 'age': 24},\n",
       "  {'name': 'Nick', 'surname': 'Oliver', 'role': 'Professor', 'age': 45},\n",
       "  {'name': 'Paul', 'surname': 'Quinn', 'role': 'Assistant', 'age': 19}]}"
      ]
     },
     "execution_count": 33,
     "metadata": {},
     "output_type": "execute_result"
    }
   ],
   "source": [
    "json_data"
   ]
  },
  {
   "cell_type": "code",
   "execution_count": 37,
   "metadata": {},
   "outputs": [],
   "source": [
    "new_data = pd.json_normalize(json_data['Person'])"
   ]
  },
  {
   "cell_type": "code",
   "execution_count": 38,
   "metadata": {},
   "outputs": [
    {
     "data": {
      "text/html": [
       "<div>\n",
       "<style scoped>\n",
       "    .dataframe tbody tr th:only-of-type {\n",
       "        vertical-align: middle;\n",
       "    }\n",
       "\n",
       "    .dataframe tbody tr th {\n",
       "        vertical-align: top;\n",
       "    }\n",
       "\n",
       "    .dataframe thead th {\n",
       "        text-align: right;\n",
       "    }\n",
       "</style>\n",
       "<table border=\"1\" class=\"dataframe\">\n",
       "  <thead>\n",
       "    <tr style=\"text-align: right;\">\n",
       "      <th></th>\n",
       "      <th>name</th>\n",
       "      <th>surname</th>\n",
       "      <th>role</th>\n",
       "      <th>age</th>\n",
       "    </tr>\n",
       "  </thead>\n",
       "  <tbody>\n",
       "    <tr>\n",
       "      <th>0</th>\n",
       "      <td>Alex</td>\n",
       "      <td>Brown</td>\n",
       "      <td>Student</td>\n",
       "      <td>20</td>\n",
       "    </tr>\n",
       "    <tr>\n",
       "      <th>1</th>\n",
       "      <td>Chris</td>\n",
       "      <td>Davis</td>\n",
       "      <td>Instructor</td>\n",
       "      <td>31</td>\n",
       "    </tr>\n",
       "    <tr>\n",
       "      <th>2</th>\n",
       "      <td>Emma</td>\n",
       "      <td>Green</td>\n",
       "      <td>Student</td>\n",
       "      <td>22</td>\n",
       "    </tr>\n",
       "    <tr>\n",
       "      <th>3</th>\n",
       "      <td>John</td>\n",
       "      <td>King</td>\n",
       "      <td>Admin</td>\n",
       "      <td>27</td>\n",
       "    </tr>\n",
       "    <tr>\n",
       "      <th>4</th>\n",
       "      <td>Lucy</td>\n",
       "      <td>Miller</td>\n",
       "      <td>Admin</td>\n",
       "      <td>24</td>\n",
       "    </tr>\n",
       "    <tr>\n",
       "      <th>5</th>\n",
       "      <td>Nick</td>\n",
       "      <td>Oliver</td>\n",
       "      <td>Professor</td>\n",
       "      <td>45</td>\n",
       "    </tr>\n",
       "    <tr>\n",
       "      <th>6</th>\n",
       "      <td>Paul</td>\n",
       "      <td>Quinn</td>\n",
       "      <td>Assistant</td>\n",
       "      <td>19</td>\n",
       "    </tr>\n",
       "  </tbody>\n",
       "</table>\n",
       "</div>"
      ],
      "text/plain": [
       "    name surname        role  age\n",
       "0   Alex   Brown     Student   20\n",
       "1  Chris   Davis  Instructor   31\n",
       "2   Emma   Green     Student   22\n",
       "3   John    King       Admin   27\n",
       "4   Lucy  Miller       Admin   24\n",
       "5   Nick  Oliver   Professor   45\n",
       "6   Paul   Quinn   Assistant   19"
      ]
     },
     "execution_count": 38,
     "metadata": {},
     "output_type": "execute_result"
    }
   ],
   "source": [
    "new_data"
   ]
  },
  {
   "cell_type": "code",
   "execution_count": null,
   "metadata": {},
   "outputs": [],
   "source": []
  }
 ],
 "metadata": {
  "kernelspec": {
   "display_name": "base",
   "language": "python",
   "name": "python3"
  },
  "language_info": {
   "codemirror_mode": {
    "name": "ipython",
    "version": 3
   },
   "file_extension": ".py",
   "mimetype": "text/x-python",
   "name": "python",
   "nbconvert_exporter": "python",
   "pygments_lexer": "ipython3",
   "version": "3.10.9"
  },
  "orig_nbformat": 4
 },
 "nbformat": 4,
 "nbformat_minor": 2
}
