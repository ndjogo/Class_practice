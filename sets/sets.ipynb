{
 "cells": [
  {
   "attachments": {},
   "cell_type": "markdown",
   "metadata": {},
   "source": [
    "# 1. Initialising Sets"
   ]
  },
  {
   "attachments": {},
   "cell_type": "markdown",
   "metadata": {},
   "source": [
    "## Create an empty set with Python's built-in function\n",
    "## Iterate over one of the sets and print out the values"
   ]
  },
  {
   "cell_type": "code",
   "execution_count": 26,
   "metadata": {},
   "outputs": [
    {
     "name": "stdout",
     "output_type": "stream",
     "text": [
      "1\n",
      "2\n",
      "3\n",
      "4\n",
      "5\n",
      "6\n"
     ]
    }
   ],
   "source": [
    "empty_set= set() \n",
    "\n",
    "set_1 = {1,2,3,4,5,6}\n",
    "\n",
    "for item in set_1:\n",
    "    print(item)"
   ]
  },
  {
   "attachments": {},
   "cell_type": "markdown",
   "metadata": {},
   "source": [
    "## 2. Find the Minimum and Maximum Value in a Set"
   ]
  },
  {
   "attachments": {},
   "cell_type": "markdown",
   "metadata": {},
   "source": [
    "## Find the maximum value in the following sets: set_int = {8, 16, 24, 1, 25, 3, 10, 65, 55} set_str = {'f', 'l', 'k', 'a', 'w'}"
   ]
  },
  {
   "cell_type": "code",
   "execution_count": 27,
   "metadata": {},
   "outputs": [
    {
     "name": "stdout",
     "output_type": "stream",
     "text": [
      "65\n"
     ]
    },
    {
     "data": {
      "text/plain": [
       "'w'"
      ]
     },
     "execution_count": 27,
     "metadata": {},
     "output_type": "execute_result"
    }
   ],
   "source": [
    "set_int = {8, 16, 24, 1, 25, 3, 10, 65, 55} \n",
    "\n",
    "set_str = {'f', 'l', 'k', 'a', 'w'}\n",
    "\n",
    "\n",
    "print(max(set_int))\n",
    "max(set_str)\n",
    "\n"
   ]
  },
  {
   "attachments": {},
   "cell_type": "markdown",
   "metadata": {},
   "source": [
    "## Find the minimum value in the following sets: set_int = {4, 12, 10, 9, 4, 13} set_str = {'b', 'z', 't', 'm', 'y', 'c'}"
   ]
  },
  {
   "cell_type": "code",
   "execution_count": 28,
   "metadata": {},
   "outputs": [
    {
     "name": "stdout",
     "output_type": "stream",
     "text": [
      "1\n"
     ]
    },
    {
     "data": {
      "text/plain": [
       "'a'"
      ]
     },
     "execution_count": 28,
     "metadata": {},
     "output_type": "execute_result"
    }
   ],
   "source": [
    "print(min(set_int))\n",
    "min(set_str)"
   ]
  },
  {
   "attachments": {},
   "cell_type": "markdown",
   "metadata": {},
   "source": [
    "## 3. Adding Items to a Set"
   ]
  },
  {
   "attachments": {},
   "cell_type": "markdown",
   "metadata": {},
   "source": [
    "## Given the set prime_numbers = {3, 5, 7, 11, 13}, add:\n",
    "## A prime number to this set\n",
    "## A set of prime numbers"
   ]
  },
  {
   "cell_type": "code",
   "execution_count": 29,
   "metadata": {},
   "outputs": [
    {
     "data": {
      "text/plain": [
       "{3, 5, 7, 11, 13, 17}"
      ]
     },
     "execution_count": 29,
     "metadata": {},
     "output_type": "execute_result"
    }
   ],
   "source": [
    "prime_numbers = {3, 5, 7, 11, 13}\n",
    "\n",
    "prime_numbers.add(17)\n",
    "\n",
    "prime_numbers"
   ]
  },
  {
   "cell_type": "code",
   "execution_count": 30,
   "metadata": {},
   "outputs": [
    {
     "data": {
      "text/plain": [
       "{3, 5, 7, 11, 13, 17, 23, 29, 31}"
      ]
     },
     "execution_count": 30,
     "metadata": {},
     "output_type": "execute_result"
    }
   ],
   "source": [
    "set_of_primes = {23, 29, 31}\n",
    "\n",
    "\n",
    "prime_numbers.update(set_of_primes)\n",
    "\n",
    "prime_numbers"
   ]
  },
  {
   "attachments": {},
   "cell_type": "markdown",
   "metadata": {},
   "source": [
    "## 4. Mathematical Operations"
   ]
  },
  {
   "attachments": {},
   "cell_type": "markdown",
   "metadata": {},
   "source": [
    "## Given the following two sets: set1 = {15, 25, 35, 45, 55} set2 = {35, 45, 55, 65, 75}\n",
    "## Return a set with the common items\n"
   ]
  },
  {
   "cell_type": "code",
   "execution_count": 31,
   "metadata": {},
   "outputs": [
    {
     "data": {
      "text/plain": [
       "{35, 45, 55}"
      ]
     },
     "execution_count": 31,
     "metadata": {},
     "output_type": "execute_result"
    }
   ],
   "source": [
    "set1 = {15, 25, 35, 45, 55} \n",
    "\n",
    "set2 = {35, 45, 55, 65, 75}\n",
    "\n",
    "\n",
    "common_items = set1.intersection(set2)\n",
    "\n",
    "common_items"
   ]
  },
  {
   "attachments": {},
   "cell_type": "markdown",
   "metadata": {},
   "source": [
    "## Return a set with the unique items"
   ]
  },
  {
   "cell_type": "code",
   "execution_count": 32,
   "metadata": {},
   "outputs": [
    {
     "data": {
      "text/plain": [
       "{15, 25, 35, 45, 55, 65, 75}"
      ]
     },
     "execution_count": 32,
     "metadata": {},
     "output_type": "execute_result"
    }
   ],
   "source": [
    "unique_items = set1.union(set2)\n",
    "\n",
    "unique_items"
   ]
  },
  {
   "attachments": {},
   "cell_type": "markdown",
   "metadata": {},
   "source": [
    "## Return a set that contains items in set1 or set 2 but not in both"
   ]
  },
  {
   "cell_type": "code",
   "execution_count": 33,
   "metadata": {},
   "outputs": [
    {
     "data": {
      "text/plain": [
       "{15, 25, 65, 75}"
      ]
     },
     "execution_count": 33,
     "metadata": {},
     "output_type": "execute_result"
    }
   ],
   "source": [
    "set1_set2_not_both = unique_items.difference(common_items)\n",
    "\n",
    "set1_set2_not_both "
   ]
  },
  {
   "attachments": {},
   "cell_type": "markdown",
   "metadata": {},
   "source": [
    "## 5. Finding Missing & Additional Values in Two Lists"
   ]
  },
  {
   "attachments": {},
   "cell_type": "markdown",
   "metadata": {},
   "source": [
    "## Given the following two lists: list1 = [1, 2, 3, 4, 5, 6, 7, 8] list2 = [5, 6, 7, 8, 9, 10, 11, 12]\n",
    "\n",
    "## Print the missing & additional items in list1 with respect to list2"
   ]
  },
  {
   "cell_type": "code",
   "execution_count": 34,
   "metadata": {},
   "outputs": [
    {
     "data": {
      "text/plain": [
       "{1, 2, 3, 4, 9, 10, 11, 12}"
      ]
     },
     "execution_count": 34,
     "metadata": {},
     "output_type": "execute_result"
    }
   ],
   "source": [
    "list1 = [1, 2, 3, 4, 5, 6, 7, 8] \n",
    "\n",
    "list2 = [5, 6, 7, 8, 9, 10, 11, 12]\n",
    "\n",
    "\n",
    "set_list1 = set(list1)\n",
    "\n",
    "set_list2 = set(list2)\n",
    "\n",
    "solution = (set_list1.union(set_list2).difference(set_list1.intersection(set_list2)))\n",
    "\n",
    "solution\n"
   ]
  },
  {
   "attachments": {},
   "cell_type": "markdown",
   "metadata": {},
   "source": [
    "## 6. Lists and Sets"
   ]
  },
  {
   "attachments": {},
   "cell_type": "markdown",
   "metadata": {},
   "source": [
    "## Find the common elements of three lists using sets."
   ]
  },
  {
   "cell_type": "code",
   "execution_count": 35,
   "metadata": {},
   "outputs": [
    {
     "data": {
      "text/plain": [
       "{20, 80}"
      ]
     },
     "execution_count": 35,
     "metadata": {},
     "output_type": "execute_result"
    }
   ],
   "source": [
    "list1 = [1, 5, 10, 20, 40, 80]\n",
    "\n",
    "list2 = [6, 7, 20, 80, 100]\n",
    "\n",
    "list3 = [3, 4, 15, 20, 30, 70, 80, 120]\n",
    "\n",
    "set_list1 = set(list1)\n",
    "set_list2 = set(list2)\n",
    "set_list3 = set(list3)\n",
    "\n",
    "common_elements = (set_list1.intersection(set_list2).intersection(set_list3))\n",
    "common_elements "
   ]
  },
  {
   "cell_type": "code",
   "execution_count": null,
   "metadata": {},
   "outputs": [],
   "source": []
  }
 ],
 "metadata": {
  "kernelspec": {
   "display_name": "Python 3",
   "language": "python",
   "name": "python3"
  },
  "language_info": {
   "codemirror_mode": {
    "name": "ipython",
    "version": 3
   },
   "file_extension": ".py",
   "mimetype": "text/x-python",
   "name": "python",
   "nbconvert_exporter": "python",
   "pygments_lexer": "ipython3",
   "version": "3.8.13"
  },
  "orig_nbformat": 4,
  "vscode": {
   "interpreter": {
    "hash": "efb8019a1ce11b26c2ef2d5f762cb80a48255c5a4995102983e8bc49ed852057"
   }
  }
 },
 "nbformat": 4,
 "nbformat_minor": 2
}
