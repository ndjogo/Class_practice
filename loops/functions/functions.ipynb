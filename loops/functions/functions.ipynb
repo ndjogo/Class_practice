{
 "cells": [
  {
   "attachments": {},
   "cell_type": "markdown",
   "metadata": {},
   "source": [
    "# Functions"
   ]
  },
  {
   "attachments": {},
   "cell_type": "markdown",
   "metadata": {},
   "source": [
    "# 1. Void Function\n"
   ]
  },
  {
   "attachments": {},
   "cell_type": "markdown",
   "metadata": {},
   "source": [
    "## A function that doesn't return anything is called a void function. In Python, you can define a void function by simply not including a return statement.\n",
    "\n",
    "## Create a function called void_function that doesn't return anything\n",
    "\n",
    "## Inside the function, print the string \"This is a void function.\""
   ]
  },
  {
   "cell_type": "code",
   "execution_count": 1,
   "metadata": {},
   "outputs": [],
   "source": [
    "def void_function(): \n",
    "    print(\"This is a void function\")\n",
    "\n",
    "    \n"
   ]
  },
  {
   "attachments": {},
   "cell_type": "markdown",
   "metadata": {},
   "source": [
    "## Call the function and assign the result to a variable called void_result\n",
    "\n",
    "## Print the value of void_result\n"
   ]
  },
  {
   "cell_type": "code",
   "execution_count": 4,
   "metadata": {},
   "outputs": [
    {
     "name": "stdout",
     "output_type": "stream",
     "text": [
      "This is a void function\n",
      "<class 'NoneType'>\n"
     ]
    }
   ],
   "source": [
    "void_result = void_function() \n",
    "\n",
    "print(type(void_result))"
   ]
  },
  {
   "attachments": {},
   "cell_type": "markdown",
   "metadata": {},
   "source": [
    "# 2. Range Checker"
   ]
  },
  {
   "attachments": {},
   "cell_type": "markdown",
   "metadata": {},
   "source": [
    "## Write a function called in_range which takes in three arguments: lower_bound, upper_bound, and number\n",
    "\n",
    "## If number is between lower_bound and upper_bound, print \"{number} is between {lower_bound} and {upper_bound}.\"\n",
    "\n",
    "## If it isn't, print \"{number} is NOT between {lower_bound} and {upper_bound}.\"\n",
    "\n",
    "## Call your function to test it"
   ]
  },
  {
   "cell_type": "code",
   "execution_count": 5,
   "metadata": {},
   "outputs": [
    {
     "name": "stdout",
     "output_type": "stream",
     "text": [
      "56 is between 10 and 1000\n"
     ]
    }
   ],
   "source": [
    "def in_range(lower_bound, upper_bound, number):\n",
    "    if (number >= lower_bound) and (number < upper_bound):\n",
    "        print(f\"{number} is between {lower_bound} and {upper_bound}\")\n",
    "    else: \n",
    "        print(f\"{number} is NOT between {lower_bound} and {upper_bound}\")\n",
    "\n",
    "in_range(10, 1000, 56)\n"
   ]
  },
  {
   "attachments": {},
   "cell_type": "markdown",
   "metadata": {},
   "source": [
    "# {number} is NOT between {lower_bound} and {upper_bound}\n",
    "## Write a function called in_range which takes in three arguments: lower_bound, upper_bound, and number\n",
    "## If number is between lower_bound and upper_bound, return True\n",
    "## If it isn't, return False\n",
    "## Call your function to test it\n",
    "\n",
    "\n"
   ]
  },
  {
   "cell_type": "code",
   "execution_count": 6,
   "metadata": {},
   "outputs": [
    {
     "data": {
      "text/plain": [
       "True"
      ]
     },
     "execution_count": 6,
     "metadata": {},
     "output_type": "execute_result"
    }
   ],
   "source": [
    "def in_range(lower_bound, upper_bound, number):\n",
    "    return (number >= lower_bound) and (number < upper_bound)\n",
    "    \n",
    "in_range(10, 1000, 56)"
   ]
  },
  {
   "attachments": {},
   "cell_type": "markdown",
   "metadata": {},
   "source": [
    "# 4. Return a Unique Item List\n",
    "\n",
    "## Write a function called unique_list that takes in a list and returns a list with only the unique elements of the input.\n",
    "## my_list = [1, 3, 5, 6, 4, 3, 2, 3, 3, 4, 3, 4, 5, 6, 6, 4, 3, 2, 12, 3, 5, 63, 4, 5, 3, 3, 2]\n",
    "\n"
   ]
  },
  {
   "cell_type": "code",
   "execution_count": 8,
   "metadata": {},
   "outputs": [
    {
     "data": {
      "text/plain": [
       "[1, 3, 5, 6, 4, 2, 12, 63]"
      ]
     },
     "execution_count": 8,
     "metadata": {},
     "output_type": "execute_result"
    }
   ],
   "source": [
    "my_list = [1, 3, 5, 6, 4, 3, 2, 3, 3, 4, 3, 4, 5, \n",
    "           6, 6, 4, 3, 2, 12, 3, 5, 63, 4, 5, 3, 3, 2]\n",
    "\n",
    "def unique_list(my_list):\n",
    "    new_list = []\n",
    "    for number in my_list: \n",
    "        if number not in new_list:\n",
    "            new_list.append(number)\n",
    "    return new_list\n",
    "\n",
    "unique_list(my_list)\n",
    "\n",
    "\n"
   ]
  },
  {
   "attachments": {},
   "cell_type": "markdown",
   "metadata": {},
   "source": [
    "## Find another way of performing the same operation without defining a function."
   ]
  },
  {
   "cell_type": "code",
   "execution_count": 9,
   "metadata": {},
   "outputs": [
    {
     "data": {
      "text/plain": [
       "[1, 2, 3, 4, 5, 6, 12, 63]"
      ]
     },
     "execution_count": 9,
     "metadata": {},
     "output_type": "execute_result"
    }
   ],
   "source": [
    "new_list = list(set(my_list))\n",
    "new_list"
   ]
  },
  {
   "attachments": {},
   "cell_type": "markdown",
   "metadata": {},
   "source": [
    "# 5. Volume of a Sphere"
   ]
  },
  {
   "attachments": {},
   "cell_type": "markdown",
   "metadata": {},
   "source": [
    "## Write a function called volume_of_sphere that takes in a variable called radius which is the radius of a sphere\n",
    "\n",
    "## The function calculates the volume of a sphere. Search online for the formula for calculating the volumne and use PI = 3.14\n",
    "\n",
    "## The function should return the volume of the sphere rounded to 2 decimal points\n",
    "\n",
    "## Call your function to test it\n"
   ]
  },
  {
   "cell_type": "code",
   "execution_count": 12,
   "metadata": {},
   "outputs": [
    {
     "data": {
      "text/plain": [
       "523.81"
      ]
     },
     "execution_count": 12,
     "metadata": {},
     "output_type": "execute_result"
    }
   ],
   "source": [
    "def volume_of_sphere(radius):\n",
    "    return round(((4/3)*(radius**3)*(22/7)), 2)\n",
    "\n",
    "\n",
    "volume_of_sphere(5)\n",
    "\n"
   ]
  },
  {
   "attachments": {},
   "cell_type": "markdown",
   "metadata": {},
   "source": [
    "# 7. Default Arguments"
   ]
  },
  {
   "attachments": {},
   "cell_type": "markdown",
   "metadata": {},
   "source": [
    "## Create a function which takes in a dictionary of attributes about a piece of clothing and prints each of the key-value pairs on a line\n",
    "\n",
    "## Define a function parameter called attributes_to_print with a default argument of 'all'\n",
    "\n",
    "## If a list is passed into the function as the attributes_to_print, print only the key-value pairs of the dictionary where the key exists in attributes_to_print. Otherwise, print them all.\n",
    "\n",
    "## Print a message to tell the user if a key doesn't exist\n",
    "\n",
    "## Call your function to test it"
   ]
  },
  {
   "cell_type": "code",
   "execution_count": 15,
   "metadata": {},
   "outputs": [
    {
     "name": "stdout",
     "output_type": "stream",
     "text": [
      "colour red\n",
      "size XL\n",
      "fabric cotton\n"
     ]
    }
   ],
   "source": [
    "my_dict = {\"colour\": \"red\", \"size\": \"XL\", \"fabric\": \"cotton\"}\n",
    "\n",
    "def attributes_to_print(my_dict, my_list = \"all\"):\n",
    "    if my_list == \"all\":\n",
    "        for item in my_dict:\n",
    "            print(item, my_dict[item])\n",
    "        return\n",
    "    for item in my_list: \n",
    "        if item in my_dict: \n",
    "            print(item, my_dict[item])\n",
    "        else: \n",
    "            print(f\"{item} does not exist\")\n",
    "\n",
    "\n",
    "attributes_to_print(my_dict)\n"
   ]
  },
  {
   "cell_type": "code",
   "execution_count": 16,
   "metadata": {},
   "outputs": [
    {
     "name": "stdout",
     "output_type": "stream",
     "text": [
      "colour red\n",
      "size XL\n",
      "test does not exist\n"
     ]
    }
   ],
   "source": [
    "attributes_to_print(my_dict, [\"colour\", \"size\", \"test\"])"
   ]
  },
  {
   "cell_type": "code",
   "execution_count": null,
   "metadata": {},
   "outputs": [],
   "source": []
  }
 ],
 "metadata": {
  "kernelspec": {
   "display_name": "Python 3",
   "language": "python",
   "name": "python3"
  },
  "language_info": {
   "codemirror_mode": {
    "name": "ipython",
    "version": 3
   },
   "file_extension": ".py",
   "mimetype": "text/x-python",
   "name": "python",
   "nbconvert_exporter": "python",
   "pygments_lexer": "ipython3",
   "version": "3.8.13"
  },
  "orig_nbformat": 4,
  "vscode": {
   "interpreter": {
    "hash": "efb8019a1ce11b26c2ef2d5f762cb80a48255c5a4995102983e8bc49ed852057"
   }
  }
 },
 "nbformat": 4,
 "nbformat_minor": 2
}
