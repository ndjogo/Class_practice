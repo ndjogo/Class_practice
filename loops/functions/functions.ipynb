{
 "cells": [
  {
   "attachments": {},
   "cell_type": "markdown",
   "metadata": {},
   "source": [
    "# Functions"
   ]
  },
  {
   "attachments": {},
   "cell_type": "markdown",
   "metadata": {},
   "source": [
    "# 1. Void Function\n"
   ]
  },
  {
   "attachments": {},
   "cell_type": "markdown",
   "metadata": {},
   "source": [
    "## A function that doesn't return anything is called a void function. In Python, you can define a void function by simply not including a return statement.\n",
    "\n",
    "## Create a function called void_function that doesn't return anything\n",
    "\n",
    "## Inside the function, print the string \"This is a void function.\""
   ]
  },
  {
   "cell_type": "code",
   "execution_count": 1,
   "metadata": {},
   "outputs": [],
   "source": [
    "def void_function(): \n",
    "    print(\"This is a void function\")\n",
    "\n",
    "    \n"
   ]
  },
  {
   "attachments": {},
   "cell_type": "markdown",
   "metadata": {},
   "source": [
    "## Call the function and assign the result to a variable called void_result\n",
    "\n",
    "## Print the value of void_result\n"
   ]
  },
  {
   "cell_type": "code",
   "execution_count": 4,
   "metadata": {},
   "outputs": [
    {
     "name": "stdout",
     "output_type": "stream",
     "text": [
      "This is a void function\n",
      "<class 'NoneType'>\n"
     ]
    }
   ],
   "source": [
    "void_result = void_function() \n",
    "\n",
    "print(type(void_result))"
   ]
  },
  {
   "attachments": {},
   "cell_type": "markdown",
   "metadata": {},
   "source": [
    "# 2. Range Checker"
   ]
  },
  {
   "attachments": {},
   "cell_type": "markdown",
   "metadata": {},
   "source": [
    "## Write a function called in_range which takes in three arguments: lower_bound, upper_bound, and number\n",
    "\n",
    "## If number is between lower_bound and upper_bound, print \"{number} is between {lower_bound} and {upper_bound}.\"\n",
    "\n",
    "## If it isn't, print \"{number} is NOT between {lower_bound} and {upper_bound}.\"\n",
    "\n",
    "## Call your function to test it"
   ]
  },
  {
   "cell_type": "code",
   "execution_count": 5,
   "metadata": {},
   "outputs": [
    {
     "name": "stdout",
     "output_type": "stream",
     "text": [
      "56 is between 10 and 1000\n"
     ]
    }
   ],
   "source": [
    "def in_range(lower_bound, upper_bound, number):\n",
    "    if (number >= lower_bound) and (number < upper_bound):\n",
    "        print(f\"{number} is between {lower_bound} and {upper_bound}\")\n",
    "    else: \n",
    "        print(f\"{number} is NOT between {lower_bound} and {upper_bound}\")\n",
    "\n",
    "in_range(10, 1000, 56)\n"
   ]
  },
  {
   "attachments": {},
   "cell_type": "markdown",
   "metadata": {},
   "source": [
    "# {number} is NOT between {lower_bound} and {upper_bound}\n",
    "## Write a function called in_range which takes in three arguments: lower_bound, upper_bound, and number\n",
    "## If number is between lower_bound and upper_bound, return True\n",
    "## If it isn't, return False\n",
    "## Call your function to test it\n",
    "\n",
    "\n"
   ]
  },
  {
   "cell_type": "code",
   "execution_count": 6,
   "metadata": {},
   "outputs": [
    {
     "data": {
      "text/plain": [
       "True"
      ]
     },
     "execution_count": 6,
     "metadata": {},
     "output_type": "execute_result"
    }
   ],
   "source": [
    "def in_range(lower_bound, upper_bound, number):\n",
    "    return (number >= lower_bound) and (number < upper_bound)\n",
    "    \n",
    "in_range(10, 1000, 56)"
   ]
  },
  {
   "attachments": {},
   "cell_type": "markdown",
   "metadata": {},
   "source": [
    "# 4. Return a Unique Item List\n",
    "\n",
    "## Write a function called unique_list that takes in a list and returns a list with only the unique elements of the input.\n",
    "## my_list = [1, 3, 5, 6, 4, 3, 2, 3, 3, 4, 3, 4, 5, 6, 6, 4, 3, 2, 12, 3, 5, 63, 4, 5, 3, 3, 2]\n",
    "\n"
   ]
  },
  {
   "cell_type": "code",
   "execution_count": 8,
   "metadata": {},
   "outputs": [
    {
     "data": {
      "text/plain": [
       "[1, 3, 5, 6, 4, 2, 12, 63]"
      ]
     },
     "execution_count": 8,
     "metadata": {},
     "output_type": "execute_result"
    }
   ],
   "source": [
    "my_list = [1, 3, 5, 6, 4, 3, 2, 3, 3, 4, 3, 4, 5, \n",
    "           6, 6, 4, 3, 2, 12, 3, 5, 63, 4, 5, 3, 3, 2]\n",
    "\n",
    "def unique_list(my_list):\n",
    "    new_list = []\n",
    "    for number in my_list: \n",
    "        if number not in new_list:\n",
    "            new_list.append(number)\n",
    "    return new_list\n",
    "\n",
    "unique_list(my_list)\n",
    "\n",
    "\n"
   ]
  },
  {
   "attachments": {},
   "cell_type": "markdown",
   "metadata": {},
   "source": [
    "## Find another way of performing the same operation without defining a function."
   ]
  },
  {
   "cell_type": "code",
   "execution_count": 9,
   "metadata": {},
   "outputs": [
    {
     "data": {
      "text/plain": [
       "[1, 2, 3, 4, 5, 6, 12, 63]"
      ]
     },
     "execution_count": 9,
     "metadata": {},
     "output_type": "execute_result"
    }
   ],
   "source": [
    "new_list = list(set(my_list))\n",
    "new_list"
   ]
  },
  {
   "attachments": {},
   "cell_type": "markdown",
   "metadata": {},
   "source": [
    "# 5. Volume of a Sphere"
   ]
  },
  {
   "attachments": {},
   "cell_type": "markdown",
   "metadata": {},
   "source": [
    "## Write a function called volume_of_sphere that takes in a variable called radius which is the radius of a sphere\n",
    "\n",
    "## The function calculates the volume of a sphere. Search online for the formula for calculating the volumne and use PI = 3.14\n",
    "\n",
    "## The function should return the volume of the sphere rounded to 2 decimal points\n",
    "\n",
    "## Call your function to test it\n"
   ]
  },
  {
   "cell_type": "code",
   "execution_count": 12,
   "metadata": {},
   "outputs": [
    {
     "data": {
      "text/plain": [
       "523.81"
      ]
     },
     "execution_count": 12,
     "metadata": {},
     "output_type": "execute_result"
    }
   ],
   "source": [
    "def volume_of_sphere(radius):\n",
    "    return round(((4/3)*(radius**3)*(22/7)), 2)\n",
    "\n",
    "\n",
    "volume_of_sphere(5)\n",
    "\n"
   ]
  },
  {
   "attachments": {},
   "cell_type": "markdown",
   "metadata": {},
   "source": [
    "# 7. Default Arguments"
   ]
  },
  {
   "attachments": {},
   "cell_type": "markdown",
   "metadata": {},
   "source": [
    "## Create a function which takes in a dictionary of attributes about a piece of clothing and prints each of the key-value pairs on a line\n",
    "\n",
    "## Define a function parameter called attributes_to_print with a default argument of 'all'\n",
    "\n",
    "## If a list is passed into the function as the attributes_to_print, print only the key-value pairs of the dictionary where the key exists in attributes_to_print. Otherwise, print them all.\n",
    "\n",
    "## Print a message to tell the user if a key doesn't exist\n",
    "\n",
    "## Call your function to test it"
   ]
  },
  {
   "cell_type": "code",
   "execution_count": 15,
   "metadata": {},
   "outputs": [
    {
     "name": "stdout",
     "output_type": "stream",
     "text": [
      "colour red\n",
      "size XL\n",
      "fabric cotton\n"
     ]
    }
   ],
   "source": [
    "my_dict = {\"colour\": \"red\", \"size\": \"XL\", \"fabric\": \"cotton\"}\n",
    "\n",
    "def attributes_to_print(my_dict, my_list = \"all\"):\n",
    "    if my_list == \"all\":\n",
    "        for item in my_dict:\n",
    "            print(item, my_dict[item])\n",
    "        return\n",
    "    for item in my_list: \n",
    "        if item in my_dict: \n",
    "            print(item, my_dict[item])\n",
    "        else: \n",
    "            print(f\"{item} does not exist\")\n",
    "\n",
    "\n",
    "attributes_to_print(my_dict)\n"
   ]
  },
  {
   "cell_type": "code",
   "execution_count": 16,
   "metadata": {},
   "outputs": [
    {
     "name": "stdout",
     "output_type": "stream",
     "text": [
      "colour red\n",
      "size XL\n",
      "test does not exist\n"
     ]
    }
   ],
   "source": [
    "attributes_to_print(my_dict, [\"colour\", \"size\", \"test\"])"
   ]
  },
  {
   "attachments": {},
   "cell_type": "markdown",
   "metadata": {},
   "source": [
    "# 8. Profile Validation"
   ]
  },
  {
   "attachments": {},
   "cell_type": "markdown",
   "metadata": {},
   "source": [
    "## Create a function which takes in the name, age, and email of a user trying to create a new profile on our application\n",
    "\n",
    "## Check the name does not contain any of the following characters \"!@£$%^&*()\"\n",
    "\n",
    "## Check the email is valid by making sure it contains \"@\"\n",
    "\n",
    "## Check the age > 12\n",
    "\n",
    "## Turn each step above into a function, so that you have one function, whiich calls 3 other functions inside\n",
    "\n",
    "## Print a friendly error to explain the issue to the user if any of these checks does not pass\n",
    "\n"
   ]
  },
  {
   "cell_type": "code",
   "execution_count": 5,
   "metadata": {},
   "outputs": [
    {
     "name": "stdout",
     "output_type": "stream",
     "text": [
      "Name cannot contain a special character\n",
      "Email must contain an '@' symbol\n",
      "User is not old enough\n"
     ]
    }
   ],
   "source": [
    "def check_name(name):\n",
    "    for character in \"!@£$%^&*()\": \n",
    "        if character in name:\n",
    "            return False  \n",
    "    return True\n",
    "             \n",
    "def check_email(email):\n",
    "    return \"@\" in email \n",
    "\n",
    "def check_age(age):\n",
    "    return age > 12 \n",
    "\n",
    "def get_info(name, email, age):\n",
    "    if not check_name(name):\n",
    "        print(\"Name cannot contain a special character\")\n",
    "\n",
    "    if not check_email(email):\n",
    "        print(\"Email must contain an '@' symbol\")\n",
    "\n",
    "    if not check_age(age):\n",
    "        print(\"User is not old enough\")\n",
    "\n",
    "\n",
    "get_info(\"Nick(\", \"nick_djogohotmail.com\", 10)       \n"
   ]
  },
  {
   "attachments": {},
   "cell_type": "markdown",
   "metadata": {},
   "source": [
    "# 9. Factorial Function"
   ]
  },
  {
   "attachments": {},
   "cell_type": "markdown",
   "metadata": {},
   "source": [
    "## A recursive function is a function that calls itself. This is useful when you want to perform an operation on a number and all the numbers below it.\n",
    "\n",
    "## Define a recursive function called factorial that returns the factorial of a given number.\n",
    "\n",
    "## Define a function called factorial that takes in a number\n",
    "\n",
    "## If the number is 0, return 1\n",
    "\n",
    "## Otherwise, return the number multiplied by the factorial of the number minus 1. In this case, you have to call the function again inside itself.\n",
    "\n",
    "## Call your function to test it. Use the number 5 as an input, you should get 120 as an output.\n",
    "\n",
    "\n",
    "\n"
   ]
  },
  {
   "cell_type": "code",
   "execution_count": 10,
   "metadata": {},
   "outputs": [
    {
     "data": {
      "text/plain": [
       "120"
      ]
     },
     "execution_count": 10,
     "metadata": {},
     "output_type": "execute_result"
    }
   ],
   "source": [
    "def factorial(n):\n",
    "    if n == 0: \n",
    "        return 1 \n",
    "    return n*factorial(n-1)\n",
    "\n",
    "factorial(5)\n"
   ]
  },
  {
   "attachments": {},
   "cell_type": "markdown",
   "metadata": {},
   "source": [
    "# 10. Recursive Fibonnaci Function\n",
    "\n"
   ]
  },
  {
   "attachments": {},
   "cell_type": "markdown",
   "metadata": {},
   "source": [
    "## Create a function which takes in an integer n, and when called, returns a list of the first n Fibonnaci numbers.\n",
    "\n",
    "## It should be a recursive function which calls itself inside the function body.\n",
    "\n",
    "## 1,1,2,3,5,8"
   ]
  },
  {
   "cell_type": "code",
   "execution_count": 13,
   "metadata": {},
   "outputs": [
    {
     "data": {
      "text/plain": [
       "[1, 1, 2, 3, 5, 8, 13, 21]"
      ]
     },
     "execution_count": 13,
     "metadata": {},
     "output_type": "execute_result"
    }
   ],
   "source": [
    "def fibonacci(n):\n",
    "    list_fibonacci_num = [1,1]\n",
    "    for number in range(1,n-1):\n",
    "        list_fibonacci_num.append(list_fibonacci_num[number -1] + list_fibonacci_num[number])\n",
    "    return list_fibonacci_num\n",
    "\n",
    "\n",
    "fibonacci(8)\n",
    "        "
   ]
  },
  {
   "cell_type": "code",
   "execution_count": 14,
   "metadata": {},
   "outputs": [
    {
     "data": {
      "text/plain": [
       "[1, 1, 2, 3, 5, 8, 13, 21]"
      ]
     },
     "execution_count": 14,
     "metadata": {},
     "output_type": "execute_result"
    }
   ],
   "source": [
    "def fibonacci(n):\n",
    "    if n == 1: \n",
    "        return [1]\n",
    "    if n == 2:\n",
    "        return [1,1]\n",
    "    else: \n",
    "        fibonacci_list = fibonacci(n-1) \n",
    "        fibonacci_list.append(fibonacci_list[-1] + fibonacci_list[-2])\n",
    "        return fibonacci_list\n",
    "    \n",
    "fibonacci(8)\n"
   ]
  },
  {
   "attachments": {},
   "cell_type": "markdown",
   "metadata": {},
   "source": [
    "# 11. Fibonnaci Loop"
   ]
  },
  {
   "attachments": {},
   "cell_type": "markdown",
   "metadata": {},
   "source": [
    "## Write a for loop that prints the first 100 Fibonnaci numbers\n",
    "\n",
    "## Create a function which returns True if the number is a multiple of 7 and False otherwise\n",
    "\n",
    "## Call this function on each number inside your loop\n",
    "\n",
    "## Add an elif condition to the loop to call another new function which checks if the number is greater than or equal to 100 OR is less than 50. In the case that it is True, format a string that prints the number and either \"is larger than 100\" or \"is less than 50\"."
   ]
  },
  {
   "cell_type": "code",
   "execution_count": 17,
   "metadata": {},
   "outputs": [
    {
     "name": "stdout",
     "output_type": "stream",
     "text": [
      "2 is greater than or equal to 100 or less than 50\n",
      "3 is greater than or equal to 100 or less than 50\n",
      "5 is greater than or equal to 100 or less than 50\n",
      "8 is greater than or equal to 100 or less than 50\n",
      "13 is greater than or equal to 100 or less than 50\n",
      "21 is a multiple of 7\n",
      "34 is greater than or equal to 100 or less than 50\n",
      "144 is greater than or equal to 100 or less than 50\n",
      "233 is greater than or equal to 100 or less than 50\n",
      "377 is greater than or equal to 100 or less than 50\n",
      "610 is greater than or equal to 100 or less than 50\n",
      "987 is a multiple of 7\n",
      "1597 is greater than or equal to 100 or less than 50\n",
      "2584 is greater than or equal to 100 or less than 50\n",
      "4181 is greater than or equal to 100 or less than 50\n",
      "6765 is greater than or equal to 100 or less than 50\n",
      "10946 is greater than or equal to 100 or less than 50\n",
      "17711 is greater than or equal to 100 or less than 50\n",
      "28657 is greater than or equal to 100 or less than 50\n",
      "46368 is a multiple of 7\n",
      "75025 is greater than or equal to 100 or less than 50\n",
      "121393 is greater than or equal to 100 or less than 50\n",
      "196418 is greater than or equal to 100 or less than 50\n",
      "317811 is greater than or equal to 100 or less than 50\n",
      "514229 is greater than or equal to 100 or less than 50\n",
      "832040 is greater than or equal to 100 or less than 50\n",
      "1346269 is greater than or equal to 100 or less than 50\n",
      "2178309 is a multiple of 7\n",
      "3524578 is greater than or equal to 100 or less than 50\n",
      "5702887 is greater than or equal to 100 or less than 50\n",
      "9227465 is greater than or equal to 100 or less than 50\n",
      "14930352 is greater than or equal to 100 or less than 50\n",
      "24157817 is greater than or equal to 100 or less than 50\n",
      "39088169 is greater than or equal to 100 or less than 50\n",
      "63245986 is greater than or equal to 100 or less than 50\n",
      "102334155 is a multiple of 7\n",
      "165580141 is greater than or equal to 100 or less than 50\n",
      "267914296 is greater than or equal to 100 or less than 50\n",
      "433494437 is greater than or equal to 100 or less than 50\n",
      "701408733 is greater than or equal to 100 or less than 50\n",
      "1134903170 is greater than or equal to 100 or less than 50\n",
      "1836311903 is greater than or equal to 100 or less than 50\n",
      "2971215073 is greater than or equal to 100 or less than 50\n",
      "4807526976 is a multiple of 7\n",
      "7778742049 is greater than or equal to 100 or less than 50\n",
      "12586269025 is greater than or equal to 100 or less than 50\n",
      "20365011074 is greater than or equal to 100 or less than 50\n",
      "32951280099 is greater than or equal to 100 or less than 50\n",
      "53316291173 is greater than or equal to 100 or less than 50\n",
      "86267571272 is greater than or equal to 100 or less than 50\n",
      "139583862445 is greater than or equal to 100 or less than 50\n",
      "225851433717 is a multiple of 7\n",
      "365435296162 is greater than or equal to 100 or less than 50\n",
      "591286729879 is greater than or equal to 100 or less than 50\n",
      "956722026041 is greater than or equal to 100 or less than 50\n",
      "1548008755920 is greater than or equal to 100 or less than 50\n",
      "2504730781961 is greater than or equal to 100 or less than 50\n",
      "4052739537881 is greater than or equal to 100 or less than 50\n",
      "6557470319842 is greater than or equal to 100 or less than 50\n",
      "10610209857723 is a multiple of 7\n",
      "17167680177565 is greater than or equal to 100 or less than 50\n",
      "27777890035288 is greater than or equal to 100 or less than 50\n",
      "44945570212853 is greater than or equal to 100 or less than 50\n",
      "72723460248141 is greater than or equal to 100 or less than 50\n",
      "117669030460994 is greater than or equal to 100 or less than 50\n",
      "190392490709135 is greater than or equal to 100 or less than 50\n",
      "308061521170129 is greater than or equal to 100 or less than 50\n",
      "498454011879264 is a multiple of 7\n",
      "806515533049393 is greater than or equal to 100 or less than 50\n",
      "1304969544928657 is greater than or equal to 100 or less than 50\n",
      "2111485077978050 is greater than or equal to 100 or less than 50\n",
      "3416454622906707 is greater than or equal to 100 or less than 50\n",
      "5527939700884757 is greater than or equal to 100 or less than 50\n",
      "8944394323791464 is greater than or equal to 100 or less than 50\n",
      "14472334024676221 is greater than or equal to 100 or less than 50\n",
      "23416728348467685 is a multiple of 7\n",
      "37889062373143906 is greater than or equal to 100 or less than 50\n",
      "61305790721611591 is greater than or equal to 100 or less than 50\n",
      "99194853094755497 is greater than or equal to 100 or less than 50\n",
      "160500643816367088 is greater than or equal to 100 or less than 50\n",
      "259695496911122585 is greater than or equal to 100 or less than 50\n",
      "420196140727489673 is greater than or equal to 100 or less than 50\n",
      "679891637638612258 is greater than or equal to 100 or less than 50\n",
      "1100087778366101931 is a multiple of 7\n",
      "1779979416004714189 is greater than or equal to 100 or less than 50\n",
      "2880067194370816120 is greater than or equal to 100 or less than 50\n",
      "4660046610375530309 is greater than or equal to 100 or less than 50\n",
      "7540113804746346429 is greater than or equal to 100 or less than 50\n",
      "12200160415121876738 is greater than or equal to 100 or less than 50\n",
      "19740274219868223167 is greater than or equal to 100 or less than 50\n",
      "31940434634990099905 is greater than or equal to 100 or less than 50\n",
      "51680708854858323072 is a multiple of 7\n",
      "83621143489848422977 is greater than or equal to 100 or less than 50\n",
      "135301852344706746049 is greater than or equal to 100 or less than 50\n",
      "218922995834555169026 is greater than or equal to 100 or less than 50\n",
      "354224848179261915075 is greater than or equal to 100 or less than 50\n"
     ]
    }
   ],
   "source": [
    "def multiple_7(num): \n",
    "    return num%7 == 0 \n",
    "\n",
    "def check_num(n):\n",
    "    return (n >= 100) or (n < 50)\n",
    "\n",
    "fibonacci_list = [1,1]\n",
    "\n",
    "for number in range(1,99):\n",
    "    new_num = fibonacci_list[number -1] + fibonacci_list[number]\n",
    "    if multiple_7(new_num): \n",
    "        print(f\"{new_num} is a multiple of 7\")\n",
    "    elif check_num(new_num):\n",
    "        print(f\"{new_num} is greater than or equal to 100 or less than 50\")\n",
    "    fibonacci_list.append(fibonacci_list[number -1] + fibonacci_list[number])\n",
    "\n"
   ]
  },
  {
   "attachments": {},
   "cell_type": "markdown",
   "metadata": {},
   "source": [
    "## Create a function which returns True if the number is a multiple of 7 and False otherwise"
   ]
  },
  {
   "cell_type": "code",
   "execution_count": null,
   "metadata": {},
   "outputs": [],
   "source": []
  }
 ],
 "metadata": {
  "kernelspec": {
   "display_name": "Python 3",
   "language": "python",
   "name": "python3"
  },
  "language_info": {
   "codemirror_mode": {
    "name": "ipython",
    "version": 3
   },
   "file_extension": ".py",
   "mimetype": "text/x-python",
   "name": "python",
   "nbconvert_exporter": "python",
   "pygments_lexer": "ipython3",
   "version": "3.8.13"
  },
  "orig_nbformat": 4,
  "vscode": {
   "interpreter": {
    "hash": "efb8019a1ce11b26c2ef2d5f762cb80a48255c5a4995102983e8bc49ed852057"
   }
  }
 },
 "nbformat": 4,
 "nbformat_minor": 2
}
