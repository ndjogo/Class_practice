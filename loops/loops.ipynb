{
 "cells": [
  {
   "attachments": {},
   "cell_type": "markdown",
   "metadata": {},
   "source": [
    "## Loops "
   ]
  },
  {
   "attachments": {},
   "cell_type": "markdown",
   "metadata": {},
   "source": [
    "# 1. Counting Numbers"
   ]
  },
  {
   "attachments": {},
   "cell_type": "markdown",
   "metadata": {},
   "source": [
    "## Print all the numbers from 1 to 50\n",
    "## Using a while loop to do so\n",
    "\n"
   ]
  },
  {
   "cell_type": "code",
   "execution_count": 1,
   "metadata": {},
   "outputs": [
    {
     "name": "stdout",
     "output_type": "stream",
     "text": [
      "1\n",
      "2\n",
      "3\n",
      "4\n",
      "5\n",
      "6\n",
      "7\n",
      "8\n",
      "9\n",
      "10\n",
      "11\n",
      "12\n",
      "13\n",
      "14\n",
      "15\n",
      "16\n",
      "17\n",
      "18\n",
      "19\n",
      "20\n",
      "21\n",
      "22\n",
      "23\n",
      "24\n",
      "25\n",
      "26\n",
      "27\n",
      "28\n",
      "29\n",
      "30\n",
      "31\n",
      "32\n",
      "33\n",
      "34\n",
      "35\n",
      "36\n",
      "37\n",
      "38\n",
      "39\n",
      "40\n",
      "41\n",
      "42\n",
      "43\n",
      "44\n",
      "45\n",
      "46\n",
      "47\n",
      "48\n",
      "49\n",
      "50\n"
     ]
    }
   ],
   "source": [
    "num = 1 \n",
    "\n",
    "while num < 51: \n",
    "    print(num)\n",
    "    num += 1 \n",
    "\n",
    "    "
   ]
  },
  {
   "attachments": {},
   "cell_type": "markdown",
   "metadata": {},
   "source": [
    "## Print all the numbers from 1 to 50\n",
    "## Using a for loop to do so What differences do you notice between the two ways?"
   ]
  },
  {
   "cell_type": "code",
   "execution_count": 2,
   "metadata": {},
   "outputs": [
    {
     "name": "stdout",
     "output_type": "stream",
     "text": [
      "1\n",
      "2\n",
      "3\n",
      "4\n",
      "5\n",
      "6\n",
      "7\n",
      "8\n",
      "9\n",
      "10\n",
      "11\n",
      "12\n",
      "13\n",
      "14\n",
      "15\n",
      "16\n",
      "17\n",
      "18\n",
      "19\n",
      "20\n",
      "21\n",
      "22\n",
      "23\n",
      "24\n",
      "25\n",
      "26\n",
      "27\n",
      "28\n",
      "29\n",
      "30\n",
      "31\n",
      "32\n",
      "33\n",
      "34\n",
      "35\n",
      "36\n",
      "37\n",
      "38\n",
      "39\n",
      "40\n",
      "41\n",
      "42\n",
      "43\n",
      "44\n",
      "45\n",
      "46\n",
      "47\n",
      "48\n",
      "49\n",
      "50\n"
     ]
    }
   ],
   "source": [
    "for number in range(1, 51): \n",
    "    print(number)"
   ]
  },
  {
   "attachments": {},
   "cell_type": "markdown",
   "metadata": {},
   "source": [
    "# 2. Counting even Numbers\n",
    "## Print all the numbers from 1 to 50 only if the number is even\n",
    "## Using a while loop to do so"
   ]
  },
  {
   "cell_type": "code",
   "execution_count": 3,
   "metadata": {},
   "outputs": [
    {
     "name": "stdout",
     "output_type": "stream",
     "text": [
      "2\n",
      "4\n",
      "6\n",
      "8\n",
      "10\n",
      "12\n",
      "14\n",
      "16\n",
      "18\n",
      "20\n",
      "22\n",
      "24\n",
      "26\n",
      "28\n",
      "30\n",
      "32\n",
      "34\n",
      "36\n",
      "38\n",
      "40\n",
      "42\n",
      "44\n",
      "46\n",
      "48\n",
      "50\n"
     ]
    }
   ],
   "source": [
    "num = 1 \n",
    "\n",
    "while num < 51: \n",
    "    if num%2 == 0: \n",
    "        print(num)\n",
    "    num += 1 \n",
    "\n",
    "    "
   ]
  },
  {
   "attachments": {},
   "cell_type": "markdown",
   "metadata": {},
   "source": [
    "# Print all the numbers from 1 to 50 only if the number is even\n",
    "## Using a for loop to do so"
   ]
  },
  {
   "cell_type": "code",
   "execution_count": 8,
   "metadata": {},
   "outputs": [
    {
     "name": "stdout",
     "output_type": "stream",
     "text": [
      "2\n",
      "4\n",
      "6\n",
      "8\n",
      "10\n",
      "12\n",
      "14\n",
      "16\n",
      "18\n",
      "20\n",
      "22\n",
      "24\n",
      "26\n",
      "28\n",
      "30\n",
      "32\n",
      "34\n",
      "36\n",
      "38\n",
      "40\n",
      "42\n",
      "44\n",
      "46\n",
      "48\n",
      "50\n"
     ]
    }
   ],
   "source": [
    "# for num in range(1, 51): \n",
    "#     if num%2 == 0:\n",
    "#         print(num)\n",
    "    \n",
    "\n",
    "for num in range(2,52,2):\n",
    "    print(num)"
   ]
  },
  {
   "attachments": {},
   "cell_type": "markdown",
   "metadata": {},
   "source": [
    "# 3. Counting even and Odd Numbers\n",
    "## Write a for loop to count the sum of all even numbers between 1 and 100"
   ]
  },
  {
   "cell_type": "code",
   "execution_count": 9,
   "metadata": {},
   "outputs": [
    {
     "name": "stdout",
     "output_type": "stream",
     "text": [
      "650\n"
     ]
    }
   ],
   "source": [
    "sum = 0 \n",
    "\n",
    "for num in range(2, 52, 2):\n",
    "    sum += num\n",
    "\n",
    "print(sum)"
   ]
  },
  {
   "attachments": {},
   "cell_type": "markdown",
   "metadata": {},
   "source": [
    "## Write another for loop to count the sum of all odd numbers between 1 and 100"
   ]
  },
  {
   "cell_type": "code",
   "execution_count": 10,
   "metadata": {},
   "outputs": [
    {
     "name": "stdout",
     "output_type": "stream",
     "text": [
      "625\n"
     ]
    }
   ],
   "source": [
    "sum = 0 \n",
    "\n",
    "for num in range(1, 51, 2):\n",
    "    sum += num\n",
    "\n",
    "print(sum)"
   ]
  },
  {
   "attachments": {},
   "cell_type": "markdown",
   "metadata": {},
   "source": [
    "# 4. FizzBuzz\n",
    "## Use a loop to print the numbers from 1 to 100 using the following rules:\n",
    "## For multiples of three print \"Fizz\" instead of the number\n",
    "## For multiples of five print \"Buzz\"\n",
    "## For numbers which are multiples of both three and five print \"FizzBuzz\"\n",
    "\n"
   ]
  },
  {
   "cell_type": "code",
   "execution_count": 12,
   "metadata": {},
   "outputs": [
    {
     "name": "stdout",
     "output_type": "stream",
     "text": [
      "1\n",
      "2\n",
      "Fizz\n",
      "4\n",
      "Buzz\n",
      "Fizz\n",
      "7\n",
      "8\n",
      "Fizz\n",
      "Buzz\n",
      "11\n",
      "Fizz\n",
      "13\n",
      "14\n",
      "FizzBuzz\n",
      "16\n",
      "17\n",
      "Fizz\n",
      "19\n",
      "Buzz\n",
      "Fizz\n",
      "22\n",
      "23\n",
      "Fizz\n",
      "Buzz\n",
      "26\n",
      "Fizz\n",
      "28\n",
      "29\n",
      "FizzBuzz\n",
      "31\n",
      "32\n",
      "Fizz\n",
      "34\n",
      "Buzz\n",
      "Fizz\n",
      "37\n",
      "38\n",
      "Fizz\n",
      "Buzz\n",
      "41\n",
      "Fizz\n",
      "43\n",
      "44\n",
      "FizzBuzz\n",
      "46\n",
      "47\n",
      "Fizz\n",
      "49\n",
      "Buzz\n",
      "Fizz\n",
      "52\n",
      "53\n",
      "Fizz\n",
      "Buzz\n",
      "56\n",
      "Fizz\n",
      "58\n",
      "59\n",
      "FizzBuzz\n",
      "61\n",
      "62\n",
      "Fizz\n",
      "64\n",
      "Buzz\n",
      "Fizz\n",
      "67\n",
      "68\n",
      "Fizz\n",
      "Buzz\n",
      "71\n",
      "Fizz\n",
      "73\n",
      "74\n",
      "FizzBuzz\n",
      "76\n",
      "77\n",
      "Fizz\n",
      "79\n",
      "Buzz\n",
      "Fizz\n",
      "82\n",
      "83\n",
      "Fizz\n",
      "Buzz\n",
      "86\n",
      "Fizz\n",
      "88\n",
      "89\n",
      "FizzBuzz\n",
      "91\n",
      "92\n",
      "Fizz\n",
      "94\n",
      "Buzz\n",
      "Fizz\n",
      "97\n",
      "98\n",
      "Fizz\n",
      "Buzz\n"
     ]
    }
   ],
   "source": [
    "for num in range(1, 101): \n",
    "    if (num%3 == 0) and (num%5 == 0):\n",
    "        print(\"FizzBuzz\")\n",
    "    elif num%3 == 0: \n",
    "        print(\"Fizz\")\n",
    "    elif num%5 == 0: \n",
    "        print(\"Buzz\")\n",
    "    else:\n",
    "        print(num)"
   ]
  },
  {
   "attachments": {},
   "cell_type": "markdown",
   "metadata": {},
   "source": [
    "# 5. Extracting Data from Lists\n",
    "## Create two dictionaries as follows: dict_1 = {'London': [51.509865,-0.118092]} and dict_2 = {'Paris': [48.864716, 2.349014]}\n",
    "## Put them into a list as follows: my_list = [dict_1, dict_2]\n",
    "## You now have a list, where each element is a dictionary containing a city name and a lat/long co-ordinate pair.\n",
    "## Write a script that loops through the list and prints out the lattitude of each city like this: \"Paris: 48.864716\""
   ]
  },
  {
   "cell_type": "code",
   "execution_count": 19,
   "metadata": {},
   "outputs": [
    {
     "name": "stdout",
     "output_type": "stream",
     "text": [
      "London : 51.509865\n",
      "Paris : 48.864716\n"
     ]
    }
   ],
   "source": [
    "dict_1 = {'London': [51.509865,-0.118092]}\n",
    "dict_2 = {'Paris': [48.864716, 2.349014]}\n",
    "\n",
    "my_list = [dict_1, dict_2]\n",
    "\n",
    "\n",
    "for city in my_list: \n",
    "    city_info = list(city.items())\n",
    "    print(f\"{city_info[0][0]} : {city_info[0][1][0]}\")\n",
    "\n",
    "\n"
   ]
  },
  {
   "attachments": {},
   "cell_type": "markdown",
   "metadata": {},
   "source": [
    "# 6. Nested Data Structures\n",
    "## Create a list of 3 dictionaries, where each dictionary contains the keys \"name\", \"age\" and \"favourite_colour\".\n",
    "## Assign appropriate values to each key in each dictionary.\n",
    "## Using nested for loops or list comprehension, create a new dictionary where the value of each \"name\" key is a key. The values in the new dictionary should be a dictionary of the other two key-value pairs from each original dictionary. As an example, the new dictionary should key-values pairs like this: \"Sarah\" : {\"age\": 25, \"favourite_colour\", \"blue\"}\n"
   ]
  },
  {
   "cell_type": "code",
   "execution_count": 21,
   "metadata": {},
   "outputs": [
    {
     "data": {
      "text/plain": [
       "{'Caitlin': {'age': 34, 'favourite_colour': 'Geen'},\n",
       " 'Muj': {'age': 32, 'favourite_colour': 'Red'},\n",
       " 'Nick': {'age': 33, 'favourite_colour': 'Blue'}}"
      ]
     },
     "execution_count": 21,
     "metadata": {},
     "output_type": "execute_result"
    }
   ],
   "source": [
    "my_dict1 = {\"name\": \"Caitlin\" , \"age\": 34 , \"favourite_colour\": \"Geen\" }\n",
    "\n",
    "my_dict2 = {\"name\": \"Muj\" , \"age\": 32 , \"favourite_colour\": \"Red\" }\n",
    "\n",
    "my_dict3 = {\"name\": \"Nick\" , \"age\": 33 , \"favourite_colour\": \"Blue\" }\n",
    "\n",
    "\n",
    "list_of_dicts = [my_dict1, my_dict2, my_dict3 ]\n",
    "\n",
    "\n",
    "new_dict = {temp_dict[\"name\"]: {\"age\" : temp_dict[\"age\"],\"favourite_colour\" : temp_dict[\"favourite_colour\"]} for temp_dict in list_of_dicts}\n",
    "\n",
    "new_dict\n"
   ]
  },
  {
   "attachments": {},
   "cell_type": "markdown",
   "metadata": {},
   "source": [
    "# 7. Rock-Paper-Scissors with Rounds"
   ]
  },
  {
   "attachments": {},
   "cell_type": "markdown",
   "metadata": {},
   "source": [
    "## Write a program that checks which player wins three rounds of Rock Paper Scissors. Download the next file. The program asks two inputs from the user: player1 and player2. The inputs can be either \"rock\", \"paper\" or \"scissors\".\n",
    "\n",
    "## Code the logic of the game to see who wins. Print the result in the format: \"Player 1 wins\" or \"Player 2 wins\""
   ]
  },
  {
   "cell_type": "code",
   "execution_count": 22,
   "metadata": {},
   "outputs": [],
   "source": [
    "# continue from here\n",
    "\n",
    "player_1 = input(\"What is player 1 choice? Rock, Paper or Scissors? \")\n",
    "\n",
    "player_2 = input(\"What is player 2 choice? Rock, Paper or Scissors? \")\n",
    "\n",
    "\n",
    "if (player_1 == \"Rock\"):\n",
    "    selection_dict = {\"Rock\": 2, \"Scissors\": 3, \"Paper\" : 1}\n",
    "     if selection_dict[player_2] == 1: \n",
    "       \"Player 2 wins\"\n",
    "    \n",
    "       \n",
    "\n",
    "elif (player_1 == \"Rock\") and (player_2 == \"Paper\")"
   ]
  },
  {
   "cell_type": "code",
   "execution_count": null,
   "metadata": {},
   "outputs": [],
   "source": []
  }
 ],
 "metadata": {
  "kernelspec": {
   "display_name": "Python 3",
   "language": "python",
   "name": "python3"
  },
  "language_info": {
   "codemirror_mode": {
    "name": "ipython",
    "version": 3
   },
   "file_extension": ".py",
   "mimetype": "text/x-python",
   "name": "python",
   "nbconvert_exporter": "python",
   "pygments_lexer": "ipython3",
   "version": "3.8.13"
  },
  "orig_nbformat": 4,
  "vscode": {
   "interpreter": {
    "hash": "efb8019a1ce11b26c2ef2d5f762cb80a48255c5a4995102983e8bc49ed852057"
   }
  }
 },
 "nbformat": 4,
 "nbformat_minor": 2
}
