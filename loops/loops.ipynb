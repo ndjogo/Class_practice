{
 "cells": [
  {
   "attachments": {},
   "cell_type": "markdown",
   "metadata": {},
   "source": [
    "## Loops "
   ]
  },
  {
   "attachments": {},
   "cell_type": "markdown",
   "metadata": {},
   "source": [
    "# 1. Counting Numbers"
   ]
  },
  {
   "attachments": {},
   "cell_type": "markdown",
   "metadata": {},
   "source": [
    "## Print all the numbers from 1 to 50\n",
    "## Using a while loop to do so\n",
    "\n"
   ]
  },
  {
   "cell_type": "code",
   "execution_count": 1,
   "metadata": {},
   "outputs": [
    {
     "name": "stdout",
     "output_type": "stream",
     "text": [
      "1\n",
      "2\n",
      "3\n",
      "4\n",
      "5\n",
      "6\n",
      "7\n",
      "8\n",
      "9\n",
      "10\n",
      "11\n",
      "12\n",
      "13\n",
      "14\n",
      "15\n",
      "16\n",
      "17\n",
      "18\n",
      "19\n",
      "20\n",
      "21\n",
      "22\n",
      "23\n",
      "24\n",
      "25\n",
      "26\n",
      "27\n",
      "28\n",
      "29\n",
      "30\n",
      "31\n",
      "32\n",
      "33\n",
      "34\n",
      "35\n",
      "36\n",
      "37\n",
      "38\n",
      "39\n",
      "40\n",
      "41\n",
      "42\n",
      "43\n",
      "44\n",
      "45\n",
      "46\n",
      "47\n",
      "48\n",
      "49\n",
      "50\n"
     ]
    }
   ],
   "source": [
    "num = 1 \n",
    "\n",
    "while num < 51: \n",
    "    print(num)\n",
    "    num += 1 \n",
    "\n",
    "    "
   ]
  },
  {
   "attachments": {},
   "cell_type": "markdown",
   "metadata": {},
   "source": [
    "## Print all the numbers from 1 to 50\n",
    "## Using a for loop to do so What differences do you notice between the two ways?"
   ]
  },
  {
   "cell_type": "code",
   "execution_count": 2,
   "metadata": {},
   "outputs": [
    {
     "name": "stdout",
     "output_type": "stream",
     "text": [
      "1\n",
      "2\n",
      "3\n",
      "4\n",
      "5\n",
      "6\n",
      "7\n",
      "8\n",
      "9\n",
      "10\n",
      "11\n",
      "12\n",
      "13\n",
      "14\n",
      "15\n",
      "16\n",
      "17\n",
      "18\n",
      "19\n",
      "20\n",
      "21\n",
      "22\n",
      "23\n",
      "24\n",
      "25\n",
      "26\n",
      "27\n",
      "28\n",
      "29\n",
      "30\n",
      "31\n",
      "32\n",
      "33\n",
      "34\n",
      "35\n",
      "36\n",
      "37\n",
      "38\n",
      "39\n",
      "40\n",
      "41\n",
      "42\n",
      "43\n",
      "44\n",
      "45\n",
      "46\n",
      "47\n",
      "48\n",
      "49\n",
      "50\n"
     ]
    }
   ],
   "source": [
    "for number in range(1, 51): \n",
    "    print(number)"
   ]
  },
  {
   "attachments": {},
   "cell_type": "markdown",
   "metadata": {},
   "source": [
    "# 2. Counting even Numbers\n",
    "## Print all the numbers from 1 to 50 only if the number is even\n",
    "## Using a while loop to do so"
   ]
  },
  {
   "cell_type": "code",
   "execution_count": 3,
   "metadata": {},
   "outputs": [
    {
     "name": "stdout",
     "output_type": "stream",
     "text": [
      "2\n",
      "4\n",
      "6\n",
      "8\n",
      "10\n",
      "12\n",
      "14\n",
      "16\n",
      "18\n",
      "20\n",
      "22\n",
      "24\n",
      "26\n",
      "28\n",
      "30\n",
      "32\n",
      "34\n",
      "36\n",
      "38\n",
      "40\n",
      "42\n",
      "44\n",
      "46\n",
      "48\n",
      "50\n"
     ]
    }
   ],
   "source": [
    "num = 1 \n",
    "\n",
    "while num < 51: \n",
    "    if num%2 == 0: \n",
    "        print(num)\n",
    "    num += 1 \n",
    "\n",
    "    "
   ]
  },
  {
   "attachments": {},
   "cell_type": "markdown",
   "metadata": {},
   "source": [
    "# Print all the numbers from 1 to 50 only if the number is even\n",
    "## Using a for loop to do so"
   ]
  },
  {
   "cell_type": "code",
   "execution_count": 8,
   "metadata": {},
   "outputs": [
    {
     "name": "stdout",
     "output_type": "stream",
     "text": [
      "2\n",
      "4\n",
      "6\n",
      "8\n",
      "10\n",
      "12\n",
      "14\n",
      "16\n",
      "18\n",
      "20\n",
      "22\n",
      "24\n",
      "26\n",
      "28\n",
      "30\n",
      "32\n",
      "34\n",
      "36\n",
      "38\n",
      "40\n",
      "42\n",
      "44\n",
      "46\n",
      "48\n",
      "50\n"
     ]
    }
   ],
   "source": [
    "# for num in range(1, 51): \n",
    "#     if num%2 == 0:\n",
    "#         print(num)\n",
    "    \n",
    "\n",
    "for num in range(2,52,2):\n",
    "    print(num)"
   ]
  },
  {
   "attachments": {},
   "cell_type": "markdown",
   "metadata": {},
   "source": [
    "# 3. Counting even and Odd Numbers\n",
    "## Write a for loop to count the sum of all even numbers between 1 and 100"
   ]
  },
  {
   "cell_type": "code",
   "execution_count": 9,
   "metadata": {},
   "outputs": [
    {
     "name": "stdout",
     "output_type": "stream",
     "text": [
      "650\n"
     ]
    }
   ],
   "source": [
    "sum = 0 \n",
    "\n",
    "for num in range(2, 52, 2):\n",
    "    sum += num\n",
    "\n",
    "print(sum)"
   ]
  },
  {
   "attachments": {},
   "cell_type": "markdown",
   "metadata": {},
   "source": [
    "## Write another for loop to count the sum of all odd numbers between 1 and 100"
   ]
  },
  {
   "cell_type": "code",
   "execution_count": 10,
   "metadata": {},
   "outputs": [
    {
     "name": "stdout",
     "output_type": "stream",
     "text": [
      "625\n"
     ]
    }
   ],
   "source": [
    "sum = 0 \n",
    "\n",
    "for num in range(1, 51, 2):\n",
    "    sum += num\n",
    "\n",
    "print(sum)"
   ]
  },
  {
   "attachments": {},
   "cell_type": "markdown",
   "metadata": {},
   "source": [
    "# 4. FizzBuzz\n",
    "## Use a loop to print the numbers from 1 to 100 using the following rules:\n",
    "## For multiples of three print \"Fizz\" instead of the number\n",
    "## For multiples of five print \"Buzz\"\n",
    "## For numbers which are multiples of both three and five print \"FizzBuzz\"\n",
    "\n"
   ]
  },
  {
   "cell_type": "code",
   "execution_count": 12,
   "metadata": {},
   "outputs": [
    {
     "name": "stdout",
     "output_type": "stream",
     "text": [
      "1\n",
      "2\n",
      "Fizz\n",
      "4\n",
      "Buzz\n",
      "Fizz\n",
      "7\n",
      "8\n",
      "Fizz\n",
      "Buzz\n",
      "11\n",
      "Fizz\n",
      "13\n",
      "14\n",
      "FizzBuzz\n",
      "16\n",
      "17\n",
      "Fizz\n",
      "19\n",
      "Buzz\n",
      "Fizz\n",
      "22\n",
      "23\n",
      "Fizz\n",
      "Buzz\n",
      "26\n",
      "Fizz\n",
      "28\n",
      "29\n",
      "FizzBuzz\n",
      "31\n",
      "32\n",
      "Fizz\n",
      "34\n",
      "Buzz\n",
      "Fizz\n",
      "37\n",
      "38\n",
      "Fizz\n",
      "Buzz\n",
      "41\n",
      "Fizz\n",
      "43\n",
      "44\n",
      "FizzBuzz\n",
      "46\n",
      "47\n",
      "Fizz\n",
      "49\n",
      "Buzz\n",
      "Fizz\n",
      "52\n",
      "53\n",
      "Fizz\n",
      "Buzz\n",
      "56\n",
      "Fizz\n",
      "58\n",
      "59\n",
      "FizzBuzz\n",
      "61\n",
      "62\n",
      "Fizz\n",
      "64\n",
      "Buzz\n",
      "Fizz\n",
      "67\n",
      "68\n",
      "Fizz\n",
      "Buzz\n",
      "71\n",
      "Fizz\n",
      "73\n",
      "74\n",
      "FizzBuzz\n",
      "76\n",
      "77\n",
      "Fizz\n",
      "79\n",
      "Buzz\n",
      "Fizz\n",
      "82\n",
      "83\n",
      "Fizz\n",
      "Buzz\n",
      "86\n",
      "Fizz\n",
      "88\n",
      "89\n",
      "FizzBuzz\n",
      "91\n",
      "92\n",
      "Fizz\n",
      "94\n",
      "Buzz\n",
      "Fizz\n",
      "97\n",
      "98\n",
      "Fizz\n",
      "Buzz\n"
     ]
    }
   ],
   "source": [
    "for num in range(1, 101): \n",
    "    if (num%3 == 0) and (num%5 == 0):\n",
    "        print(\"FizzBuzz\")\n",
    "    elif num%3 == 0: \n",
    "        print(\"Fizz\")\n",
    "    elif num%5 == 0: \n",
    "        print(\"Buzz\")\n",
    "    else:\n",
    "        print(num)"
   ]
  },
  {
   "attachments": {},
   "cell_type": "markdown",
   "metadata": {},
   "source": [
    "# 5. Extracting Data from Lists\n",
    "## Create two dictionaries as follows: dict_1 = {'London': [51.509865,-0.118092]} and dict_2 = {'Paris': [48.864716, 2.349014]}\n",
    "## Put them into a list as follows: my_list = [dict_1, dict_2]\n",
    "## You now have a list, where each element is a dictionary containing a city name and a lat/long co-ordinate pair.\n",
    "## Write a script that loops through the list and prints out the lattitude of each city like this: \"Paris: 48.864716\""
   ]
  },
  {
   "cell_type": "code",
   "execution_count": 19,
   "metadata": {},
   "outputs": [
    {
     "name": "stdout",
     "output_type": "stream",
     "text": [
      "London : 51.509865\n",
      "Paris : 48.864716\n"
     ]
    }
   ],
   "source": [
    "dict_1 = {'London': [51.509865,-0.118092]}\n",
    "dict_2 = {'Paris': [48.864716, 2.349014]}\n",
    "\n",
    "my_list = [dict_1, dict_2]\n",
    "\n",
    "\n",
    "for city in my_list: \n",
    "    city_info = list(city.items())\n",
    "    print(f\"{city_info[0][0]} : {city_info[0][1][0]}\")\n",
    "\n",
    "\n"
   ]
  },
  {
   "attachments": {},
   "cell_type": "markdown",
   "metadata": {},
   "source": [
    "# 6. Nested Data Structures\n",
    "## Create a list of 3 dictionaries, where each dictionary contains the keys \"name\", \"age\" and \"favourite_colour\".\n",
    "## Assign appropriate values to each key in each dictionary.\n",
    "## Using nested for loops or list comprehension, create a new dictionary where the value of each \"name\" key is a key. The values in the new dictionary should be a dictionary of the other two key-value pairs from each original dictionary. As an example, the new dictionary should key-values pairs like this: \"Sarah\" : {\"age\": 25, \"favourite_colour\", \"blue\"}\n"
   ]
  },
  {
   "cell_type": "code",
   "execution_count": 21,
   "metadata": {},
   "outputs": [
    {
     "data": {
      "text/plain": [
       "{'Caitlin': {'age': 34, 'favourite_colour': 'Geen'},\n",
       " 'Muj': {'age': 32, 'favourite_colour': 'Red'},\n",
       " 'Nick': {'age': 33, 'favourite_colour': 'Blue'}}"
      ]
     },
     "execution_count": 21,
     "metadata": {},
     "output_type": "execute_result"
    }
   ],
   "source": [
    "my_dict1 = {\"name\": \"Caitlin\" , \"age\": 34 , \"favourite_colour\": \"Geen\" }\n",
    "\n",
    "my_dict2 = {\"name\": \"Muj\" , \"age\": 32 , \"favourite_colour\": \"Red\" }\n",
    "\n",
    "my_dict3 = {\"name\": \"Nick\" , \"age\": 33 , \"favourite_colour\": \"Blue\" }\n",
    "\n",
    "\n",
    "list_of_dicts = [my_dict1, my_dict2, my_dict3 ]\n",
    "\n",
    "\n",
    "new_dict = {temp_dict[\"name\"]: {\"age\" : temp_dict[\"age\"],\"favourite_colour\" : temp_dict[\"favourite_colour\"]} for temp_dict in list_of_dicts}\n",
    "\n",
    "new_dict\n"
   ]
  },
  {
   "attachments": {},
   "cell_type": "markdown",
   "metadata": {},
   "source": [
    "# 7. Rock-Paper-Scissors with Rounds"
   ]
  },
  {
   "attachments": {},
   "cell_type": "markdown",
   "metadata": {},
   "source": [
    "## Write a program that checks which player wins three rounds of Rock Paper Scissors. Download the next file. The program asks two inputs from the user: player1 and player2. The inputs can be either \"rock\", \"paper\" or \"scissors\".\n",
    "\n",
    "## Code the logic of the game to see who wins. Print the result in the format: \"Player 1 wins\" or \"Player 2 wins\"\n",
    "\n",
    "## Create two new variables, num_player_one_wins and num_player_two_wins, and use them to keep track of the number of wins each player has\n",
    "\n",
    "## Put the code inside a while loop that runs until one of the players has won three rounds"
   ]
  },
  {
   "cell_type": "code",
   "execution_count": 2,
   "metadata": {},
   "outputs": [
    {
     "name": "stdout",
     "output_type": "stream",
     "text": [
      "Player 2 has won\n"
     ]
    }
   ],
   "source": [
    "\n",
    "num_player_one_wins = 0 \n",
    "num_player_two_wins = 0 \n",
    "\n",
    "\n",
    "while True:\n",
    "  if num_player_one_wins >= 3: \n",
    "      print(\"Player 1 has won\")\n",
    "      break\n",
    "  if num_player_two_wins >= 3: \n",
    "      print(\"Player 2 has won\")\n",
    "      break\n",
    "\n",
    "  \n",
    "    \n",
    "  player_1 = input(\"What is player 1 choice? Rock, Paper or Scissors? \")\n",
    "\n",
    "  player_2 = input(\"What is player 2 choice? Rock, Paper or Scissors? \")\n",
    "\n",
    "\n",
    "\n",
    "\n",
    "  if (player_1 == \"Rock\"):\n",
    "      selection_dict = {\"Rock\": 0, \"Scissors\": -1, \"Paper\" : 1}\n",
    "      if selection_dict[player_2] > selection_dict[player_1]:\n",
    "          num_player_two_wins += 1\n",
    "      elif selection_dict[player_2] == selection_dict[player_1]:\n",
    "          pass\n",
    "      else: \n",
    "          num_player_one_wins += 1\n",
    "          \n",
    "\n",
    "  if (player_1 == \"Scissors\"):\n",
    "      selection_dict = {\"Rock\": 1, \"Scissors\": 0, \"Paper\" : -1}\n",
    "      if selection_dict[player_2] > selection_dict[player_1]:\n",
    "          num_player_two_wins += 1\n",
    "      elif selection_dict[player_2] == selection_dict[player_1]:\n",
    "          pass\n",
    "      else: \n",
    "          num_player_one_wins += 1\n",
    "      \n",
    "  if (player_1 == \"Paper\"):\n",
    "      selection_dict = {\"Rock\": -1, \"Scissors\": 1, \"Paper\" : 0}\n",
    "      if selection_dict[player_2] > selection_dict[player_1]:\n",
    "          num_player_two_wins += 1\n",
    "      elif selection_dict[player_2] == selection_dict[player_1]:\n",
    "          pass\n",
    "      else: \n",
    "          num_player_one_wins += 1\n",
    "\n",
    "\n"
   ]
  },
  {
   "attachments": {},
   "cell_type": "markdown",
   "metadata": {},
   "source": []
  },
  {
   "attachments": {},
   "cell_type": "markdown",
   "metadata": {},
   "source": [
    "# 8. Budget Calculator"
   ]
  },
  {
   "attachments": {},
   "cell_type": "markdown",
   "metadata": {},
   "source": [
    "## Write a program that calculates the total cost of a shopping trip.\n",
    "## Use a for loop to iterate through the order_list\n",
    "## At each iteration: Add the items to the receipt list. Add the total cost of the item to the running_total variable. Subtract the total cost of the item from the budget variable.\n",
    "## If at some point the budget variable is less than 0, print the message \"You have exceeded your budget by {budget}.\" and break the loop\n"
   ]
  },
  {
   "cell_type": "code",
   "execution_count": 5,
   "metadata": {},
   "outputs": [
    {
     "name": "stdout",
     "output_type": "stream",
     "text": [
      "remaining budget: 10.0\n",
      "Receipt: []\n",
      "remaining budget: 9.13\n",
      "Receipt: ['tom']\n",
      "remaining budget: 8.040000000000001\n",
      "Receipt: ['tom', 'sug']\n",
      "remaining budget: 7.750000000000001\n",
      "Receipt: ['tom', 'sug', 'ws']\n",
      "remaining budget: 5.860000000000001\n",
      "Receipt: ['tom', 'sug', 'ws', 'juc']\n"
     ]
    }
   ],
   "source": [
    "# Each element is the product code, the individual price, and the quantity.\n",
    "order_list = [(\"tom\", 0.87, 4),\n",
    "              (\"sug\", 1.09, 3),\n",
    "              (\"ws\", 0.29, 4),\n",
    "              (\"juc\", 1.89, 1),\n",
    "              (\"fo\", 1.29, 2)]\n",
    "\n",
    "# This dictionary gives the full name of each product code.\n",
    "names = {\"tom\": \"Tomatoes\",\n",
    "         \"sug\": \"Sugar\",\n",
    "         \"ws\": \"Washing Sponges\",\n",
    "         \"juc\": \"Juice\",\n",
    "         \"fo\": \"Foil\"}\n",
    "\n",
    "budget = 10.00\n",
    "running_total = 0\n",
    "receipt = []\n",
    "\n",
    "\n",
    "for item in order_list: \n",
    "    print(f\"remaining budget: {budget}\")\n",
    "    print(f\"Receipt: {receipt}\")\n",
    "    receipt.append(item[0])\n",
    "    running_total += item[1]\n",
    "    budget -= item[1]\n",
    "    if budget < 0: \n",
    "        print(f\"You have exceeded your budget by {abs(budget)}\")\n",
    "        break\n",
    "\n",
    "\n"
   ]
  },
  {
   "attachments": {},
   "cell_type": "markdown",
   "metadata": {},
   "source": [
    "## 9. Odd and even List Comprehension"
   ]
  },
  {
   "attachments": {},
   "cell_type": "markdown",
   "metadata": {},
   "source": [
    "## Create a list comprehension that squares even arguments, and squares odd arguments after adding one to them"
   ]
  },
  {
   "cell_type": "code",
   "execution_count": 6,
   "metadata": {},
   "outputs": [
    {
     "data": {
      "text/plain": [
       "[4, 36, 64, 36, 484]"
      ]
     },
     "execution_count": 6,
     "metadata": {},
     "output_type": "execute_result"
    }
   ],
   "source": [
    "my_list = [1, 5, 8, 6, 21] \n",
    "\n",
    "new_list = [num**2 if num%2 == 0 else (num + 1)**2 for num in my_list]\n",
    "\n",
    "new_list"
   ]
  },
  {
   "attachments": {},
   "cell_type": "markdown",
   "metadata": {},
   "source": [
    "## Create a list comprehension to tag the different types of names"
   ]
  },
  {
   "cell_type": "code",
   "execution_count": 7,
   "metadata": {},
   "outputs": [
    {
     "data": {
      "text/plain": [
       "['good', 'good', 'bad', 'bad', 'bad']"
      ]
     },
     "execution_count": 7,
     "metadata": {},
     "output_type": "execute_result"
    }
   ],
   "source": [
    "my_list = [\"Adam\", \"Sarah\", \"Connor\", \"Muj\", \"Kush\"]\n",
    "\n",
    "new_list = [\"good\" if \"a\" in name else \"bad\" for name in my_list]\n",
    "\n",
    "new_list "
   ]
  },
  {
   "attachments": {},
   "cell_type": "markdown",
   "metadata": {},
   "source": [
    "## 10. Dictionaries and List Comprehensions"
   ]
  },
  {
   "attachments": {},
   "cell_type": "markdown",
   "metadata": {},
   "source": [
    "## Create two dictionaries, each one with 2 keys name: a string of your name, skills: a list of strings\n",
    "## Put both of them in a list\n",
    "## Now index that list of dictionaries to find the last letter of the first skill of the last dictionary\n",
    "## Create a list comprehension which maps that list to a list of the length of names\n",
    "## Add that list together to get the total number of characters in all of the names\n"
   ]
  },
  {
   "cell_type": "code",
   "execution_count": 14,
   "metadata": {},
   "outputs": [
    {
     "name": "stdout",
     "output_type": "stream",
     "text": [
      "The last letter of the first skill of the last dictionary :c\n"
     ]
    },
    {
     "data": {
      "text/plain": [
       "11"
      ]
     },
     "execution_count": 14,
     "metadata": {},
     "output_type": "execute_result"
    }
   ],
   "source": [
    "my_dict1 = {\"name\": \"Nick\" , \"skills\": [\"clever\", 'fast', 'speaks French'] }\n",
    "\n",
    "my_dict2 = {\"name\": \"Caitlin\", \"skills\": ['athletic', 'creative', 'good communicator'] }\n",
    "\n",
    "my_list = [my_dict1 , my_dict2]\n",
    "\n",
    "first_letter_last_skill = my_list[-1][\"skills\"][0][-1]\n",
    "print(f\"The last letter of the first skill of the last dictionary :{first_letter_last_skill}\")\n",
    "\n",
    "my_list2 = [{item[\"name\"] : len(item[\"name\"])} for item in my_list]\n",
    "\n",
    "sum_of_letter = 0 \n",
    "my_list3 = [list(item.values())[0] for item in my_list2]\n",
    "\n",
    "sum(my_list3)\n"
   ]
  },
  {
   "cell_type": "markdown",
   "metadata": {},
   "source": []
  },
  {
   "attachments": {},
   "cell_type": "markdown",
   "metadata": {},
   "source": [
    "# Shop Item Filter"
   ]
  },
  {
   "attachments": {},
   "cell_type": "markdown",
   "metadata": {},
   "source": [
    "## Filter shop_dict using list comprehension to find only items with values that are over 1.00\n",
    "## Assign them to a list called filtered_shop by their full names, not their codes, using names_dict."
   ]
  },
  {
   "cell_type": "code",
   "execution_count": 16,
   "metadata": {},
   "outputs": [
    {
     "data": {
      "text/plain": [
       "['Sugar', 'Coca-Cola', 'Coca-Cola Zero']"
      ]
     },
     "execution_count": 16,
     "metadata": {},
     "output_type": "execute_result"
    }
   ],
   "source": [
    "shop_dict = {\"tom\":0.87, \"sug\":1.09, \"ws\":0.29, \"cc\":1.89, \"ccz\":1.29}\n",
    "\n",
    "names_dict = {\"tom\":\"Tomatoes\", \"sug\":\"Sugar\", \"ws\":\"Washing Sponges\", \"cc\":\"Coca-Cola\", \"ccz\":\"Coca-Cola Zero\"}\n",
    "\n",
    "filtered_shop = [names_dict[item] for item in shop_dict if shop_dict[item] > 1]\n",
    "filtered_shop\n"
   ]
  },
  {
   "attachments": {},
   "cell_type": "markdown",
   "metadata": {},
   "source": [
    "# 13. Shape Maker \n"
   ]
  },
  {
   "attachments": {},
   "cell_type": "markdown",
   "metadata": {},
   "source": [
    "## Write a program to produce the following pattern.\n",
    " ?\n",
    "\n",
    " ? ?\n",
    "\n",
    "? ? ?\n",
    "\n",
    "? ? ? ?\n",
    "\n",
    "? ? ? ? ?\n",
    "\n",
    "? ? ? ?\n",
    "\n",
    "? ? ?\n",
    "\n",
    "? ?\n",
    "\n",
    "?\n"
   ]
  },
  {
   "cell_type": "code",
   "execution_count": 7,
   "metadata": {},
   "outputs": [
    {
     "name": "stdout",
     "output_type": "stream",
     "text": [
      "?\n",
      "??\n",
      "???\n",
      "????\n",
      "?????\n",
      "????\n",
      "???\n",
      "??\n",
      "?\n"
     ]
    }
   ],
   "source": [
    "pattern1 = \"\"\n",
    "pattern2 = \"?????\"\n",
    "for i in range(1,10):\n",
    "    if len(pattern1) < 5:\n",
    "        pattern1 += \"?\"\n",
    "        print(pattern1)\n",
    "\n",
    "    else: \n",
    "        pattern2 = pattern2[0:-1]\n",
    "        print(pattern2)\n"
   ]
  },
  {
   "cell_type": "code",
   "execution_count": 9,
   "metadata": {},
   "outputs": [
    {
     "name": "stdout",
     "output_type": "stream",
     "text": [
      "?\n",
      "??\n",
      "???\n",
      "????\n",
      "?????\n",
      "????\n",
      "???\n",
      "??\n",
      "?\n"
     ]
    }
   ],
   "source": [
    "pattern = \"\"\n",
    "\n",
    "for i in range(1,10):\n",
    "    if i <= 5:\n",
    "        pattern += \"?\"\n",
    "        print(pattern)\n",
    "\n",
    "    else: \n",
    "        pattern = pattern[0:-1]\n",
    "        print(pattern)"
   ]
  },
  {
   "cell_type": "code",
   "execution_count": 15,
   "metadata": {},
   "outputs": [
    {
     "name": "stdout",
     "output_type": "stream",
     "text": [
      "?\n",
      "??\n",
      "???\n",
      "????\n",
      "?????\n",
      "????\n",
      "???\n",
      "??\n",
      "?\n"
     ]
    }
   ],
   "source": [
    "for i in range(1,6):\n",
    "    for j in range(0,i):\n",
    "        print(\"?\", end = \"\")\n",
    "    print()\n",
    "\n",
    "for i in range(4,0, -1):\n",
    "    for j in range(0,i):\n",
    "        print(\"?\", end = \"\")\n",
    "    print()"
   ]
  },
  {
   "attachments": {},
   "cell_type": "markdown",
   "metadata": {},
   "source": [
    "# Prime Numbers "
   ]
  },
  {
   "attachments": {},
   "cell_type": "markdown",
   "metadata": {},
   "source": [
    "## Write a program to check whether each number from 10 to 50 is prime\n",
    "## Your answer should take the following format:\n",
    "\n",
    "## \"x is a prime number.\" for primes\n",
    "## \"x is not a prime number because y is a factor of x.\" for non-primes\n"
   ]
  },
  {
   "cell_type": "code",
   "execution_count": 19,
   "metadata": {},
   "outputs": [
    {
     "name": "stdout",
     "output_type": "stream",
     "text": [
      "10 is not prime because it is divisible by 2\n",
      "11 is a prime number!\n",
      "12 is not prime because it is divisible by 2\n",
      "13 is a prime number!\n",
      "14 is not prime because it is divisible by 2\n",
      "15 is not prime because it is divisible by 3\n",
      "16 is not prime because it is divisible by 2\n",
      "17 is a prime number!\n",
      "18 is not prime because it is divisible by 2\n",
      "19 is a prime number!\n",
      "20 is not prime because it is divisible by 2\n",
      "21 is not prime because it is divisible by 3\n",
      "22 is not prime because it is divisible by 2\n",
      "23 is a prime number!\n",
      "24 is not prime because it is divisible by 2\n",
      "25 is not prime because it is divisible by 5\n",
      "26 is not prime because it is divisible by 2\n",
      "27 is not prime because it is divisible by 3\n",
      "28 is not prime because it is divisible by 2\n",
      "29 is a prime number!\n",
      "30 is not prime because it is divisible by 2\n",
      "31 is a prime number!\n",
      "32 is not prime because it is divisible by 2\n",
      "33 is not prime because it is divisible by 3\n",
      "34 is not prime because it is divisible by 2\n",
      "35 is not prime because it is divisible by 5\n",
      "36 is not prime because it is divisible by 2\n",
      "37 is a prime number!\n",
      "38 is not prime because it is divisible by 2\n",
      "39 is not prime because it is divisible by 3\n",
      "40 is not prime because it is divisible by 2\n",
      "41 is a prime number!\n",
      "42 is not prime because it is divisible by 2\n",
      "43 is a prime number!\n",
      "44 is not prime because it is divisible by 2\n",
      "45 is not prime because it is divisible by 3\n",
      "46 is not prime because it is divisible by 2\n",
      "47 is a prime number!\n",
      "48 is not prime because it is divisible by 2\n",
      "49 is not prime because it is divisible by 7\n",
      "50 is not prime because it is divisible by 2\n"
     ]
    }
   ],
   "source": [
    "for i in range(10,51): \n",
    "    for j in range(2, int(i**0.5) + 2):\n",
    "        if i%j == 0: \n",
    "            print(f\"{i} is not prime because it is divisible by {j}\")\n",
    "            break\n",
    "    if j > i**0.5: \n",
    "        print(f\"{i} is a prime number!\")\n",
    "\n",
    "\n"
   ]
  },
  {
   "cell_type": "code",
   "execution_count": null,
   "metadata": {},
   "outputs": [],
   "source": []
  }
 ],
 "metadata": {
  "kernelspec": {
   "display_name": "Python 3",
   "language": "python",
   "name": "python3"
  },
  "language_info": {
   "codemirror_mode": {
    "name": "ipython",
    "version": 3
   },
   "file_extension": ".py",
   "mimetype": "text/x-python",
   "name": "python",
   "nbconvert_exporter": "python",
   "pygments_lexer": "ipython3",
   "version": "3.8.13"
  },
  "orig_nbformat": 4,
  "vscode": {
   "interpreter": {
    "hash": "efb8019a1ce11b26c2ef2d5f762cb80a48255c5a4995102983e8bc49ed852057"
   }
  }
 },
 "nbformat": 4,
 "nbformat_minor": 2
}
