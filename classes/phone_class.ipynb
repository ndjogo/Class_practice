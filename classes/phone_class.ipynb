{
 "cells": [
  {
   "attachments": {},
   "cell_type": "markdown",
   "metadata": {},
   "source": [
    "# Create a Phone class\n",
    "## The class takes two arguments:\n",
    "## One called number (e.g. 07777777777), which has no default. This is the phone number of the phone and will be used as an attribute\n",
    "## One called balance, which is an integer, which defaults to 20. This is the balance of the phone and will be used as an attribute\n",
    "## Create a method called make_call\n",
    "## It takes two arguments:\n",
    "## One called number (e.g. 07777777777), which has no default. This is the phone number of the person being called\n",
    "## One called duration, which is an integer, which defaults to 1. This is the duration of the call in minutes\n",
    "## Inside the method, check if the balance is greater than or equal to the duration of the call. If it is, then:\n",
    "## Print \"Calling {number} for {duration} minutes\"\n",
    "## Subtract the duration from the balance\n",
    "## If the balance is not greater than or equal to the duration of the call, then:\n",
    "## Print \"Insufficient balance\"\n",
    "## Create a method called info\n",
    "## It prints the phone number and the balance"
   ]
  },
  {
   "cell_type": "code",
   "execution_count": 3,
   "metadata": {},
   "outputs": [],
   "source": [
    "class Phone():\n",
    "    def __init__(self, number, balance: int = 20):\n",
    "        self.number = number \n",
    "        self.balance = balance \n",
    "    \n",
    "    def make_call(self, number, duration: int = 1):\n",
    "        if self.balance >= duration:\n",
    "            print(f\"Calling {self.number} for {duration} minutes\")\n",
    "            self.balance -= duration \n",
    "        else: \n",
    "            print(\"Insufficient balance\")\n",
    "    \n",
    "    def info(self):\n",
    "        print(f\"Phone number is: {self.number}. \\n Current balance: {self.balance}\")\n",
    "\n",
    "\n"
   ]
  },
  {
   "cell_type": "code",
   "execution_count": 8,
   "metadata": {},
   "outputs": [],
   "source": [
    "new_number = Phone(\"0772734654757\", 500)"
   ]
  },
  {
   "cell_type": "code",
   "execution_count": 9,
   "metadata": {},
   "outputs": [
    {
     "name": "stdout",
     "output_type": "stream",
     "text": [
      "Calling 0772734654757 for 20 minutes\n"
     ]
    }
   ],
   "source": [
    "new_number.make_call(\"0736252737265\", 20)"
   ]
  },
  {
   "cell_type": "code",
   "execution_count": 10,
   "metadata": {},
   "outputs": [
    {
     "name": "stdout",
     "output_type": "stream",
     "text": [
      "Phone number is: 0772734654757. \n",
      " Current balance: 480\n"
     ]
    }
   ],
   "source": [
    "new_number.info()"
   ]
  },
  {
   "cell_type": "code",
   "execution_count": 36,
   "metadata": {},
   "outputs": [],
   "source": [
    "class New_Phone(Phone):\n",
    "    def __init__(self,number, balance: int = 20):\n",
    "        super().__init__(number, balance)\n",
    "    \n",
    "    def make_call(self, number, duration: int = 1):\n",
    "        if len(number) == 11:\n",
    "            if self.balance >= duration:\n",
    "                print(f\"Calling {self.number} for {duration} minutes\")\n",
    "                self.balance -= duration \n",
    "            else: \n",
    "                print(\"Insufficient balance\")\n",
    "        else:\n",
    "            print(\"The number you are trying to call is invalid\")\n",
    "    \n",
    "    \n",
    "    def __str__(self):\n",
    "        return f\"Phone number is: {self.number}. \\n Current balance: {self.balance}\"\n",
    "    \n",
    "    def __eq__(self, other_number):\n",
    "        if isinstance(other_number, New_Phone):\n",
    "            return self.number == other_number.number\n",
    "        elif type(other_number) == str:\n",
    "            return self.number == other_number\n",
    "        else: \n",
    "            print(\"Comparison not possible\")\n"
   ]
  },
  {
   "cell_type": "code",
   "execution_count": 37,
   "metadata": {},
   "outputs": [
    {
     "name": "stdout",
     "output_type": "stream",
     "text": [
      "Calling 07836475897 for 1 minutes\n",
      "Phone number is: 07836475897. \n",
      " Current balance: 19\n"
     ]
    }
   ],
   "source": [
    "new_number2 = New_Phone(\"07836475897\")\n",
    "\n",
    "new_number2.make_call(\"07776533234\")\n",
    "\n",
    "new_number2.info()"
   ]
  },
  {
   "cell_type": "code",
   "execution_count": 38,
   "metadata": {},
   "outputs": [
    {
     "name": "stdout",
     "output_type": "stream",
     "text": [
      "Phone number is: 07836475897. \n",
      " Current balance: 19\n"
     ]
    }
   ],
   "source": [
    "print(new_number2)"
   ]
  },
  {
   "cell_type": "code",
   "execution_count": 42,
   "metadata": {},
   "outputs": [
    {
     "name": "stdout",
     "output_type": "stream",
     "text": [
      "Comparison not possible\n"
     ]
    }
   ],
   "source": [
    "new_number2 == [123, 23, 5]"
   ]
  },
  {
   "cell_type": "code",
   "execution_count": 22,
   "metadata": {},
   "outputs": [],
   "source": [
    "\n"
   ]
  },
  {
   "cell_type": "code",
   "execution_count": null,
   "metadata": {},
   "outputs": [],
   "source": []
  }
 ],
 "metadata": {
  "kernelspec": {
   "display_name": "Python 3",
   "language": "python",
   "name": "python3"
  },
  "language_info": {
   "codemirror_mode": {
    "name": "ipython",
    "version": 3
   },
   "file_extension": ".py",
   "mimetype": "text/x-python",
   "name": "python",
   "nbconvert_exporter": "python",
   "pygments_lexer": "ipython3",
   "version": "3.8.13"
  },
  "orig_nbformat": 4,
  "vscode": {
   "interpreter": {
    "hash": "efb8019a1ce11b26c2ef2d5f762cb80a48255c5a4995102983e8bc49ed852057"
   }
  }
 },
 "nbformat": 4,
 "nbformat_minor": 2
}
