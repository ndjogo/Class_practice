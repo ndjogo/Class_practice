{
 "cells": [
  {
   "attachments": {},
   "cell_type": "markdown",
   "metadata": {},
   "source": [
    "# Tuples"
   ]
  },
  {
   "attachments": {},
   "cell_type": "markdown",
   "metadata": {},
   "source": [
    "## 1. Initialising Tuples"
   ]
  },
  {
   "attachments": {},
   "cell_type": "markdown",
   "metadata": {},
   "source": [
    "## Create an empty tuple without Python's built-in function\n",
    "## Create an empty tuple with Python's built-in function\n",
    "## Create a tuple that contains three different data types\n",
    "## Merge the two of the tuples you created using the + operator\n",
    "\n"
   ]
  },
  {
   "cell_type": "code",
   "execution_count": 21,
   "metadata": {},
   "outputs": [
    {
     "ename": "TypeError",
     "evalue": "'tuple' object is not callable",
     "output_type": "error",
     "traceback": [
      "\u001b[0;31m---------------------------------------------------------------------------\u001b[0m",
      "\u001b[0;31mTypeError\u001b[0m                                 Traceback (most recent call last)",
      "\u001b[1;32m/home/ndjogo/Documents/python_data_structures/tuples/tuples.ipynb Cell 4\u001b[0m in \u001b[0;36m<cell line: 2>\u001b[0;34m()\u001b[0m\n\u001b[1;32m      <a href='vscode-notebook-cell:/home/ndjogo/Documents/python_data_structures/tuples/tuples.ipynb#W0sZmlsZQ%3D%3D?line=0'>1</a>\u001b[0m new_tuple \u001b[39m=\u001b[39m ()\n\u001b[0;32m----> <a href='vscode-notebook-cell:/home/ndjogo/Documents/python_data_structures/tuples/tuples.ipynb#W0sZmlsZQ%3D%3D?line=1'>2</a>\u001b[0m new_tuple_2 \u001b[39m=\u001b[39m \u001b[39mtuple\u001b[39;49m()\n\u001b[1;32m      <a href='vscode-notebook-cell:/home/ndjogo/Documents/python_data_structures/tuples/tuples.ipynb#W0sZmlsZQ%3D%3D?line=3'>4</a>\u001b[0m new_tuple_3 \u001b[39m=\u001b[39m (\u001b[39m\"\u001b[39m\u001b[39mAdam\u001b[39m\u001b[39m\"\u001b[39m, \u001b[39m3\u001b[39m, \u001b[39mTrue\u001b[39;00m)\n\u001b[1;32m      <a href='vscode-notebook-cell:/home/ndjogo/Documents/python_data_structures/tuples/tuples.ipynb#W0sZmlsZQ%3D%3D?line=4'>5</a>\u001b[0m new_tuple_4 \u001b[39m=\u001b[39m (\u001b[39m\"\u001b[39m\u001b[39mCaitlin\u001b[39m\u001b[39m\"\u001b[39m, \u001b[39m\"\u001b[39m\u001b[39mThohin\u001b[39m\u001b[39m\"\u001b[39m, \u001b[39m33\u001b[39m, \u001b[39m3.456\u001b[39m)\n",
      "\u001b[0;31mTypeError\u001b[0m: 'tuple' object is not callable"
     ]
    }
   ],
   "source": [
    "new_tuple = ()\n",
    "new_tuple_2 = tuple()\n",
    "\n",
    "new_tuple_3 = (\"Adam\", 3, True)\n",
    "new_tuple_4 = (\"Caitlin\", \"Thohin\", 33, 3.456)\n",
    "\n",
    "merged_tuple = new_tuple_3 + new_tuple_4\n",
    "\n",
    "merged_tuple\n"
   ]
  },
  {
   "attachments": {},
   "cell_type": "markdown",
   "metadata": {},
   "source": [
    "## Iterate over one of the tuples and print out tuples"
   ]
  },
  {
   "cell_type": "code",
   "execution_count": null,
   "metadata": {},
   "outputs": [
    {
     "name": "stdout",
     "output_type": "stream",
     "text": [
      "Adam\n",
      "3\n",
      "True\n",
      "Caitlin\n",
      "Thohin\n",
      "33\n",
      "3.456\n"
     ]
    }
   ],
   "source": [
    "for item in merged_tuple: \n",
    "    print(item)"
   ]
  },
  {
   "attachments": {},
   "cell_type": "markdown",
   "metadata": {},
   "source": [
    "## 2. Counting Number of Occurences in a Tuple"
   ]
  },
  {
   "attachments": {},
   "cell_type": "markdown",
   "metadata": {},
   "source": [
    "## Count the number of i's in the tuple\n",
    "## Count the number of 7's in the tuple\n",
    "## Count the number of [1, 2, 3] lists and ('f', 'd') tuples in the tuple"
   ]
  },
  {
   "cell_type": "code",
   "execution_count": null,
   "metadata": {},
   "outputs": [
    {
     "name": "stdout",
     "output_type": "stream",
     "text": [
      "2\n",
      "8\n",
      "2\n"
     ]
    },
    {
     "data": {
      "text/plain": [
       "1"
      ]
     },
     "execution_count": 6,
     "metadata": {},
     "output_type": "execute_result"
    }
   ],
   "source": [
    "vowels = ('a', 'e', 'i', 'o', 'i', 'u')\n",
    "\n",
    "counter = 0 \n",
    "\n",
    "for item in vowels: \n",
    "    if item == \"i\": \n",
    "        counter += 1 \n",
    "\n",
    "print(vowels.count(\"i\"))\n",
    "\n",
    "\n",
    "numbers = (1, 7, 2, 7, 3, 7, 4, 7, 5, 7, 6, 7, 7, 7)\n",
    "\n",
    "print(numbers.count(7))\n",
    "\n",
    "\n",
    "tuple = (1, 'f', [1, 2, 3], [4, 5], ('f', 'd'), ('f', 'd', 'e'), [1, 2, 3], 'a')\n",
    "\n",
    "\n",
    "print(tuple.count([1,2,3]))\n",
    "\n",
    "tuple.count(('f', 'd'))\n"
   ]
  },
  {
   "attachments": {},
   "cell_type": "markdown",
   "metadata": {},
   "source": [
    "# 3. Indexing Tuples"
   ]
  },
  {
   "attachments": {},
   "cell_type": "markdown",
   "metadata": {},
   "source": [
    "## Find the first occurence of 'e' element\n",
    "## Find the first occurence of 'i' element\n",
    "\n"
   ]
  },
  {
   "cell_type": "code",
   "execution_count": null,
   "metadata": {},
   "outputs": [
    {
     "name": "stdout",
     "output_type": "stream",
     "text": [
      "1\n",
      "2\n"
     ]
    },
    {
     "ename": "ValueError",
     "evalue": "tuple.index(x): x not in tuple",
     "output_type": "error",
     "traceback": [
      "\u001b[0;31m---------------------------------------------------------------------------\u001b[0m",
      "\u001b[0;31mValueError\u001b[0m                                Traceback (most recent call last)",
      "\u001b[1;32m/home/ndjogo/Documents/python_data_structures/tuples/tuples.ipynb Cell 12\u001b[0m in \u001b[0;36m<cell line: 3>\u001b[0;34m()\u001b[0m\n\u001b[1;32m      <a href='vscode-notebook-cell:/home/ndjogo/Documents/python_data_structures/tuples/tuples.ipynb#X12sZmlsZQ%3D%3D?line=0'>1</a>\u001b[0m \u001b[39mprint\u001b[39m(vowels\u001b[39m.\u001b[39mindex(\u001b[39m'\u001b[39m\u001b[39me\u001b[39m\u001b[39m'\u001b[39m))\n\u001b[1;32m      <a href='vscode-notebook-cell:/home/ndjogo/Documents/python_data_structures/tuples/tuples.ipynb#X12sZmlsZQ%3D%3D?line=1'>2</a>\u001b[0m \u001b[39mprint\u001b[39m(vowels\u001b[39m.\u001b[39mindex(\u001b[39m'\u001b[39m\u001b[39mi\u001b[39m\u001b[39m'\u001b[39m))\n\u001b[0;32m----> <a href='vscode-notebook-cell:/home/ndjogo/Documents/python_data_structures/tuples/tuples.ipynb#X12sZmlsZQ%3D%3D?line=2'>3</a>\u001b[0m \u001b[39mprint\u001b[39m(vowels\u001b[39m.\u001b[39;49mindex(\u001b[39m'\u001b[39;49m\u001b[39mb\u001b[39;49m\u001b[39m'\u001b[39;49m))\n",
      "\u001b[0;31mValueError\u001b[0m: tuple.index(x): x not in tuple"
     ]
    }
   ],
   "source": [
    "print(vowels.index('e'))\n",
    "print(vowels.index('i'))\n"
   ]
  },
  {
   "attachments": {},
   "cell_type": "markdown",
   "metadata": {},
   "source": [
    "## ## Find the first occurence of 'b' element."
   ]
  },
  {
   "cell_type": "code",
   "execution_count": null,
   "metadata": {},
   "outputs": [
    {
     "ename": "ValueError",
     "evalue": "tuple.index(x): x not in tuple",
     "output_type": "error",
     "traceback": [
      "\u001b[0;31m---------------------------------------------------------------------------\u001b[0m",
      "\u001b[0;31mValueError\u001b[0m                                Traceback (most recent call last)",
      "\u001b[1;32m/home/ndjogo/Documents/python_data_structures/tuples/tuples.ipynb Cell 14\u001b[0m in \u001b[0;36m<cell line: 1>\u001b[0;34m()\u001b[0m\n\u001b[0;32m----> <a href='vscode-notebook-cell:/home/ndjogo/Documents/python_data_structures/tuples/tuples.ipynb#X15sZmlsZQ%3D%3D?line=0'>1</a>\u001b[0m vowels\u001b[39m.\u001b[39;49mindex(\u001b[39m'\u001b[39;49m\u001b[39mb\u001b[39;49m\u001b[39m'\u001b[39;49m)\n",
      "\u001b[0;31mValueError\u001b[0m: tuple.index(x): x not in tuple"
     ]
    }
   ],
   "source": [
    "vowels.index('b')"
   ]
  },
  {
   "attachments": {},
   "cell_type": "markdown",
   "metadata": {},
   "source": [
    "## Find the first occurence of 'i' elemnts from index 4 to 8 in the following tuple"
   ]
  },
  {
   "cell_type": "code",
   "execution_count": null,
   "metadata": {},
   "outputs": [
    {
     "data": {
      "text/plain": [
       "7"
      ]
     },
     "execution_count": 11,
     "metadata": {},
     "output_type": "execute_result"
    }
   ],
   "source": [
    "alphabet = ('a', 'e', 'i', 'o', 'u', 'g', 'l', 'i', 'u')\n",
    "\n",
    "alphabet.index(\"i\",4,8)"
   ]
  },
  {
   "attachments": {},
   "cell_type": "markdown",
   "metadata": {},
   "source": [
    "## 4. Unpacking Tuples"
   ]
  },
  {
   "attachments": {},
   "cell_type": "markdown",
   "metadata": {},
   "source": [
    "## Initialise a tuple that contains four different data types. Unpack the tuple and print out each variable."
   ]
  },
  {
   "cell_type": "code",
   "execution_count": null,
   "metadata": {},
   "outputs": [
    {
     "name": "stdout",
     "output_type": "stream",
     "text": [
      "Hello True 3 5.678\n"
     ]
    }
   ],
   "source": [
    "first_tuple = (\"Hello\", True, 3, 5.678)\n",
    "\n",
    "a, b, c, d = first_tuple \n",
    "\n",
    "print(a, b, c, d)"
   ]
  },
  {
   "attachments": {},
   "cell_type": "markdown",
   "metadata": {},
   "source": [
    "## Given a tuple = (70, \"AiCore\", 10, \"Programming\", 70) and x, *y, z = tuple. What do you think the output of the following print statements will be?"
   ]
  },
  {
   "cell_type": "code",
   "execution_count": null,
   "metadata": {},
   "outputs": [
    {
     "name": "stdout",
     "output_type": "stream",
     "text": [
      "['AiCore', 10, 'Programming']\n"
     ]
    }
   ],
   "source": [
    "second_tuple = (70, \"AiCore\", 10, \"Programming\", 70)\n",
    "\n",
    "x, *y, z = second_tuple\n",
    "\n",
    "print(x, y, z)"
   ]
  },
  {
   "cell_type": "code",
   "execution_count": null,
   "metadata": {},
   "outputs": [],
   "source": []
  }
 ],
 "metadata": {
  "kernelspec": {
   "display_name": "Python 3",
   "language": "python",
   "name": "python3"
  },
  "language_info": {
   "codemirror_mode": {
    "name": "ipython",
    "version": 3
   },
   "file_extension": ".py",
   "mimetype": "text/x-python",
   "name": "python",
   "nbconvert_exporter": "python",
   "pygments_lexer": "ipython3",
   "version": "3.8.13"
  },
  "orig_nbformat": 4,
  "vscode": {
   "interpreter": {
    "hash": "efb8019a1ce11b26c2ef2d5f762cb80a48255c5a4995102983e8bc49ed852057"
   }
  }
 },
 "nbformat": 4,
 "nbformat_minor": 2
}
